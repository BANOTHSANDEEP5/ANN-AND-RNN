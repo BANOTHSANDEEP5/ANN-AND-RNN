{
  "nbformat": 4,
  "nbformat_minor": 0,
  "metadata": {
    "colab": {
      "provenance": [],
      "authorship_tag": "ABX9TyPrb7ITZcLofUc/bysCcwgI",
      "include_colab_link": true
    },
    "kernelspec": {
      "name": "python3",
      "display_name": "Python 3"
    },
    "language_info": {
      "name": "python"
    }
  },
  "cells": [
    {
      "cell_type": "markdown",
      "metadata": {
        "id": "view-in-github",
        "colab_type": "text"
      },
      "source": [
        "<a href=\"https://colab.research.google.com/github/BANOTHSANDEEP5/ANN-AND-RNN/blob/main/ANN%20AND%20RNN.ipynb\" target=\"_parent\"><img src=\"https://colab.research.google.com/assets/colab-badge.svg\" alt=\"Open In Colab\"/></a>"
      ]
    },
    {
      "cell_type": "code",
      "execution_count": 27,
      "metadata": {
        "id": "IE--cegRnz17"
      },
      "outputs": [],
      "source": [
        "import pandas as pd\n",
        "import numpy as np\n",
        "from sklearn.model_selection import train_test_split\n",
        "from sklearn.preprocessing import MinMaxScaler\n",
        "from tensorflow.keras.models import Sequential\n",
        "from tensorflow.keras.layers import Dense, SimpleRNN\n",
        "from sklearn.metrics import r2_score\n"
      ]
    },
    {
      "cell_type": "code",
      "source": [
        "data = pd.read_csv('data_csv.csv')"
      ],
      "metadata": {
        "id": "tHcpKtN2n6ao"
      },
      "execution_count": 28,
      "outputs": []
    },
    {
      "cell_type": "code",
      "source": [
        "X = data[['water/binder ', 'Binder (kg/m^3)', 'Fly ash (%)', 'GGBS (%)', 'SP (%)', 'Aggregate (CA/ FA)', 'Curing Days', 'Curing condition']]\n",
        "y = data['Porosity (%)']"
      ],
      "metadata": {
        "id": "CCyBKeyMoAlS"
      },
      "execution_count": 29,
      "outputs": []
    },
    {
      "cell_type": "code",
      "source": [
        "X = pd.get_dummies(X, columns=['Curing condition'])"
      ],
      "metadata": {
        "id": "WIqLvgW4oDO5"
      },
      "execution_count": 30,
      "outputs": []
    },
    {
      "cell_type": "code",
      "source": [
        "X_train, X_test, y_train, y_test = train_test_split(X, y, test_size=0.2, random_state=42)"
      ],
      "metadata": {
        "id": "-vGWw5u7oFWf"
      },
      "execution_count": 31,
      "outputs": []
    },
    {
      "cell_type": "code",
      "source": [
        "scaler = MinMaxScaler()\n",
        "X_train = scaler.fit_transform(X_train)\n",
        "X_test = scaler.transform(X_test)"
      ],
      "metadata": {
        "id": "NdBfeDWYoHSv"
      },
      "execution_count": 32,
      "outputs": []
    },
    {
      "cell_type": "code",
      "source": [
        "X_train = X_train.reshape((X_train.shape[0], 1, X_train.shape[1]))\n",
        "X_test = X_test.reshape((X_test.shape[0], 1, X_test.shape[1]))"
      ],
      "metadata": {
        "id": "4GuENn3soUH3"
      },
      "execution_count": 33,
      "outputs": []
    },
    {
      "cell_type": "code",
      "source": [
        "model = Sequential()\n",
        "model.add(SimpleRNN(units=64, input_shape=(1, X_train.shape[2])))\n",
        "model.add(Dense(units=128, activation='relu'))\n",
        "model.add(Dense(units=64, activation='relu'))\n",
        "model.add(Dense(units=1))"
      ],
      "metadata": {
        "id": "fcdovjt6oUpn"
      },
      "execution_count": 34,
      "outputs": []
    },
    {
      "cell_type": "code",
      "source": [
        "model.compile(optimizer='adam', loss='mean_squared_error')"
      ],
      "metadata": {
        "id": "Dst42U1moW7H"
      },
      "execution_count": 35,
      "outputs": []
    },
    {
      "cell_type": "code",
      "source": [
        "model.fit(X_train, y_train, epochs=100, batch_size=32, validation_data=(X_test, y_test), verbose=1)"
      ],
      "metadata": {
        "colab": {
          "base_uri": "https://localhost:8080/"
        },
        "id": "2YR7a_3foZSZ",
        "outputId": "c7c96993-b00a-4813-8292-222ffca0f628"
      },
      "execution_count": 36,
      "outputs": [
        {
          "output_type": "stream",
          "name": "stdout",
          "text": [
            "Epoch 1/100\n",
            "7/7 [==============================] - 2s 48ms/step - loss: 110.3345 - val_loss: 100.2953\n",
            "Epoch 2/100\n",
            "7/7 [==============================] - 0s 9ms/step - loss: 94.0605 - val_loss: 81.6226\n",
            "Epoch 3/100\n",
            "7/7 [==============================] - 0s 9ms/step - loss: 73.2058 - val_loss: 55.9673\n",
            "Epoch 4/100\n",
            "7/7 [==============================] - 0s 11ms/step - loss: 46.1954 - val_loss: 27.2448\n",
            "Epoch 5/100\n",
            "7/7 [==============================] - 0s 10ms/step - loss: 20.4318 - val_loss: 10.9366\n",
            "Epoch 6/100\n",
            "7/7 [==============================] - 0s 10ms/step - loss: 13.5241 - val_loss: 14.4749\n",
            "Epoch 7/100\n",
            "7/7 [==============================] - 0s 8ms/step - loss: 12.8670 - val_loss: 9.8298\n",
            "Epoch 8/100\n",
            "7/7 [==============================] - 0s 10ms/step - loss: 9.4167 - val_loss: 9.3198\n",
            "Epoch 9/100\n",
            "7/7 [==============================] - 0s 11ms/step - loss: 9.4913 - val_loss: 9.1971\n",
            "Epoch 10/100\n",
            "7/7 [==============================] - 0s 7ms/step - loss: 8.7166 - val_loss: 7.7116\n",
            "Epoch 11/100\n",
            "7/7 [==============================] - 0s 11ms/step - loss: 7.2374 - val_loss: 7.0682\n",
            "Epoch 12/100\n",
            "7/7 [==============================] - 0s 8ms/step - loss: 6.9232 - val_loss: 6.7942\n",
            "Epoch 13/100\n",
            "7/7 [==============================] - 0s 8ms/step - loss: 6.2280 - val_loss: 6.0982\n",
            "Epoch 14/100\n",
            "7/7 [==============================] - 0s 8ms/step - loss: 5.8240 - val_loss: 5.8645\n",
            "Epoch 15/100\n",
            "7/7 [==============================] - 0s 10ms/step - loss: 5.5903 - val_loss: 6.1648\n",
            "Epoch 16/100\n",
            "7/7 [==============================] - 0s 10ms/step - loss: 5.4789 - val_loss: 6.1443\n",
            "Epoch 17/100\n",
            "7/7 [==============================] - 0s 7ms/step - loss: 5.2919 - val_loss: 6.2434\n",
            "Epoch 18/100\n",
            "7/7 [==============================] - 0s 8ms/step - loss: 4.8144 - val_loss: 5.3732\n",
            "Epoch 19/100\n",
            "7/7 [==============================] - 0s 11ms/step - loss: 4.6436 - val_loss: 5.3326\n",
            "Epoch 20/100\n",
            "7/7 [==============================] - 0s 8ms/step - loss: 4.4635 - val_loss: 5.4457\n",
            "Epoch 21/100\n",
            "7/7 [==============================] - 0s 8ms/step - loss: 4.2840 - val_loss: 5.2848\n",
            "Epoch 22/100\n",
            "7/7 [==============================] - 0s 10ms/step - loss: 4.1833 - val_loss: 5.2438\n",
            "Epoch 23/100\n",
            "7/7 [==============================] - 0s 10ms/step - loss: 4.1002 - val_loss: 5.1346\n",
            "Epoch 24/100\n",
            "7/7 [==============================] - 0s 9ms/step - loss: 4.0380 - val_loss: 5.3400\n",
            "Epoch 25/100\n",
            "7/7 [==============================] - 0s 9ms/step - loss: 3.9100 - val_loss: 4.9392\n",
            "Epoch 26/100\n",
            "7/7 [==============================] - 0s 9ms/step - loss: 3.8442 - val_loss: 5.1361\n",
            "Epoch 27/100\n",
            "7/7 [==============================] - 0s 9ms/step - loss: 3.7928 - val_loss: 5.2091\n",
            "Epoch 28/100\n",
            "7/7 [==============================] - 0s 11ms/step - loss: 3.7630 - val_loss: 5.2805\n",
            "Epoch 29/100\n",
            "7/7 [==============================] - 0s 11ms/step - loss: 4.1115 - val_loss: 6.8590\n",
            "Epoch 30/100\n",
            "7/7 [==============================] - 0s 8ms/step - loss: 3.9425 - val_loss: 5.1779\n",
            "Epoch 31/100\n",
            "7/7 [==============================] - 0s 11ms/step - loss: 3.7107 - val_loss: 5.6199\n",
            "Epoch 32/100\n",
            "7/7 [==============================] - 0s 10ms/step - loss: 3.7655 - val_loss: 5.7442\n",
            "Epoch 33/100\n",
            "7/7 [==============================] - 0s 11ms/step - loss: 3.7804 - val_loss: 5.6202\n",
            "Epoch 34/100\n",
            "7/7 [==============================] - 0s 8ms/step - loss: 3.6789 - val_loss: 5.3060\n",
            "Epoch 35/100\n",
            "7/7 [==============================] - 0s 8ms/step - loss: 3.6953 - val_loss: 5.3533\n",
            "Epoch 36/100\n",
            "7/7 [==============================] - 0s 8ms/step - loss: 4.0108 - val_loss: 7.4622\n",
            "Epoch 37/100\n",
            "7/7 [==============================] - 0s 10ms/step - loss: 4.4821 - val_loss: 6.5556\n",
            "Epoch 38/100\n",
            "7/7 [==============================] - 0s 10ms/step - loss: 3.9394 - val_loss: 5.6985\n",
            "Epoch 39/100\n",
            "7/7 [==============================] - 0s 11ms/step - loss: 4.0280 - val_loss: 6.2141\n",
            "Epoch 40/100\n",
            "7/7 [==============================] - 0s 11ms/step - loss: 3.7619 - val_loss: 6.8088\n",
            "Epoch 41/100\n",
            "7/7 [==============================] - 0s 7ms/step - loss: 3.7176 - val_loss: 5.4252\n",
            "Epoch 42/100\n",
            "7/7 [==============================] - 0s 11ms/step - loss: 3.5972 - val_loss: 5.6307\n",
            "Epoch 43/100\n",
            "7/7 [==============================] - 0s 10ms/step - loss: 3.8871 - val_loss: 6.3630\n",
            "Epoch 44/100\n",
            "7/7 [==============================] - 0s 8ms/step - loss: 3.6570 - val_loss: 4.8971\n",
            "Epoch 45/100\n",
            "7/7 [==============================] - 0s 8ms/step - loss: 3.6717 - val_loss: 5.0396\n",
            "Epoch 46/100\n",
            "7/7 [==============================] - 0s 11ms/step - loss: 3.5330 - val_loss: 5.4640\n",
            "Epoch 47/100\n",
            "7/7 [==============================] - 0s 11ms/step - loss: 3.8116 - val_loss: 4.1478\n",
            "Epoch 48/100\n",
            "7/7 [==============================] - 0s 11ms/step - loss: 3.9821 - val_loss: 4.0942\n",
            "Epoch 49/100\n",
            "7/7 [==============================] - 0s 8ms/step - loss: 3.6324 - val_loss: 4.5157\n",
            "Epoch 50/100\n",
            "7/7 [==============================] - 0s 8ms/step - loss: 3.7201 - val_loss: 4.0166\n",
            "Epoch 51/100\n",
            "7/7 [==============================] - 0s 10ms/step - loss: 4.0451 - val_loss: 3.8695\n",
            "Epoch 52/100\n",
            "7/7 [==============================] - 0s 9ms/step - loss: 3.7432 - val_loss: 4.4094\n",
            "Epoch 53/100\n",
            "7/7 [==============================] - 0s 10ms/step - loss: 3.6141 - val_loss: 4.1796\n",
            "Epoch 54/100\n",
            "7/7 [==============================] - 0s 9ms/step - loss: 3.5434 - val_loss: 4.0831\n",
            "Epoch 55/100\n",
            "7/7 [==============================] - 0s 12ms/step - loss: 3.5199 - val_loss: 4.5031\n",
            "Epoch 56/100\n",
            "7/7 [==============================] - 0s 11ms/step - loss: 3.4205 - val_loss: 4.5038\n",
            "Epoch 57/100\n",
            "7/7 [==============================] - 0s 13ms/step - loss: 3.4043 - val_loss: 4.2825\n",
            "Epoch 58/100\n",
            "7/7 [==============================] - 0s 11ms/step - loss: 3.4691 - val_loss: 4.5338\n",
            "Epoch 59/100\n",
            "7/7 [==============================] - 0s 14ms/step - loss: 3.3926 - val_loss: 4.2702\n",
            "Epoch 60/100\n",
            "7/7 [==============================] - 0s 14ms/step - loss: 3.7335 - val_loss: 4.5521\n",
            "Epoch 61/100\n",
            "7/7 [==============================] - 0s 13ms/step - loss: 3.5107 - val_loss: 5.3737\n",
            "Epoch 62/100\n",
            "7/7 [==============================] - 0s 13ms/step - loss: 3.7895 - val_loss: 5.3169\n",
            "Epoch 63/100\n",
            "7/7 [==============================] - 0s 13ms/step - loss: 3.3684 - val_loss: 4.5004\n",
            "Epoch 64/100\n",
            "7/7 [==============================] - 0s 17ms/step - loss: 3.7429 - val_loss: 4.4344\n",
            "Epoch 65/100\n",
            "7/7 [==============================] - 0s 13ms/step - loss: 3.3276 - val_loss: 5.3916\n",
            "Epoch 66/100\n",
            "7/7 [==============================] - 0s 14ms/step - loss: 3.3838 - val_loss: 4.7142\n",
            "Epoch 67/100\n",
            "7/7 [==============================] - 0s 15ms/step - loss: 3.4580 - val_loss: 4.9875\n",
            "Epoch 68/100\n",
            "7/7 [==============================] - 0s 12ms/step - loss: 3.4535 - val_loss: 5.5283\n",
            "Epoch 69/100\n",
            "7/7 [==============================] - 0s 11ms/step - loss: 3.3477 - val_loss: 4.6625\n",
            "Epoch 70/100\n",
            "7/7 [==============================] - 0s 15ms/step - loss: 3.5951 - val_loss: 4.7524\n",
            "Epoch 71/100\n",
            "7/7 [==============================] - 0s 15ms/step - loss: 3.3162 - val_loss: 5.1896\n",
            "Epoch 72/100\n",
            "7/7 [==============================] - 0s 14ms/step - loss: 3.4801 - val_loss: 5.3616\n",
            "Epoch 73/100\n",
            "7/7 [==============================] - 0s 15ms/step - loss: 3.4495 - val_loss: 5.1504\n",
            "Epoch 74/100\n",
            "7/7 [==============================] - 0s 12ms/step - loss: 3.2899 - val_loss: 4.8457\n",
            "Epoch 75/100\n",
            "7/7 [==============================] - 0s 15ms/step - loss: 3.4971 - val_loss: 4.8888\n",
            "Epoch 76/100\n",
            "7/7 [==============================] - 0s 13ms/step - loss: 3.4358 - val_loss: 5.9379\n",
            "Epoch 77/100\n",
            "7/7 [==============================] - 0s 16ms/step - loss: 3.2101 - val_loss: 4.7687\n",
            "Epoch 78/100\n",
            "7/7 [==============================] - 0s 17ms/step - loss: 3.4205 - val_loss: 4.7799\n",
            "Epoch 79/100\n",
            "7/7 [==============================] - 0s 16ms/step - loss: 3.2906 - val_loss: 5.4041\n",
            "Epoch 80/100\n",
            "7/7 [==============================] - 0s 12ms/step - loss: 3.4188 - val_loss: 5.1637\n",
            "Epoch 81/100\n",
            "7/7 [==============================] - 0s 8ms/step - loss: 3.2433 - val_loss: 4.6016\n",
            "Epoch 82/100\n",
            "7/7 [==============================] - 0s 11ms/step - loss: 3.2264 - val_loss: 4.8225\n",
            "Epoch 83/100\n",
            "7/7 [==============================] - 0s 7ms/step - loss: 3.4149 - val_loss: 3.8607\n",
            "Epoch 84/100\n",
            "7/7 [==============================] - 0s 11ms/step - loss: 3.4725 - val_loss: 3.9772\n",
            "Epoch 85/100\n",
            "7/7 [==============================] - 0s 8ms/step - loss: 3.3818 - val_loss: 3.6879\n",
            "Epoch 86/100\n",
            "7/7 [==============================] - 0s 8ms/step - loss: 3.2794 - val_loss: 3.6584\n",
            "Epoch 87/100\n",
            "7/7 [==============================] - 0s 10ms/step - loss: 3.2574 - val_loss: 3.7749\n",
            "Epoch 88/100\n",
            "7/7 [==============================] - 0s 11ms/step - loss: 3.2422 - val_loss: 3.9821\n",
            "Epoch 89/100\n",
            "7/7 [==============================] - 0s 8ms/step - loss: 3.2018 - val_loss: 4.3432\n",
            "Epoch 90/100\n",
            "7/7 [==============================] - 0s 11ms/step - loss: 3.1375 - val_loss: 4.3350\n",
            "Epoch 91/100\n",
            "7/7 [==============================] - 0s 10ms/step - loss: 3.1853 - val_loss: 4.2130\n",
            "Epoch 92/100\n",
            "7/7 [==============================] - 0s 8ms/step - loss: 3.0776 - val_loss: 5.3201\n",
            "Epoch 93/100\n",
            "7/7 [==============================] - 0s 11ms/step - loss: 3.9498 - val_loss: 5.5495\n",
            "Epoch 94/100\n",
            "7/7 [==============================] - 0s 11ms/step - loss: 3.6914 - val_loss: 4.9522\n",
            "Epoch 95/100\n",
            "7/7 [==============================] - 0s 8ms/step - loss: 3.5915 - val_loss: 5.1728\n",
            "Epoch 96/100\n",
            "7/7 [==============================] - 0s 11ms/step - loss: 3.3053 - val_loss: 4.6376\n",
            "Epoch 97/100\n",
            "7/7 [==============================] - 0s 10ms/step - loss: 3.7065 - val_loss: 3.9076\n",
            "Epoch 98/100\n",
            "7/7 [==============================] - 0s 11ms/step - loss: 3.4574 - val_loss: 4.8958\n",
            "Epoch 99/100\n",
            "7/7 [==============================] - 0s 8ms/step - loss: 3.8068 - val_loss: 4.0009\n",
            "Epoch 100/100\n",
            "7/7 [==============================] - 0s 10ms/step - loss: 3.2065 - val_loss: 3.7227\n"
          ]
        },
        {
          "output_type": "execute_result",
          "data": {
            "text/plain": [
              "<keras.src.callbacks.History at 0x7c81a3d41750>"
            ]
          },
          "metadata": {},
          "execution_count": 36
        }
      ]
    },
    {
      "cell_type": "code",
      "source": [
        "loss = model.evaluate(X_test, y_test, verbose=0)\n",
        "print('Test loss:', loss)"
      ],
      "metadata": {
        "colab": {
          "base_uri": "https://localhost:8080/"
        },
        "id": "ZITr4PNXocTL",
        "outputId": "465f6789-7de2-4d09-cdd6-7f164f02a766"
      },
      "execution_count": 37,
      "outputs": [
        {
          "output_type": "stream",
          "name": "stdout",
          "text": [
            "Test loss: 3.722654342651367\n"
          ]
        }
      ]
    },
    {
      "cell_type": "code",
      "source": [
        "y_pred = model.predict(X_test)"
      ],
      "metadata": {
        "colab": {
          "base_uri": "https://localhost:8080/"
        },
        "id": "z6lajjbIoeZL",
        "outputId": "b3d05147-ef22-43e3-8357-032e0efc3e1e"
      },
      "execution_count": 38,
      "outputs": [
        {
          "output_type": "stream",
          "name": "stdout",
          "text": [
            "2/2 [==============================] - 0s 6ms/step\n"
          ]
        }
      ]
    },
    {
      "cell_type": "code",
      "source": [
        "r2 = r2_score(y_test, y_pred)\n",
        "print('R-squared:', r2)"
      ],
      "metadata": {
        "colab": {
          "base_uri": "https://localhost:8080/"
        },
        "id": "eUkuPyfhogbI",
        "outputId": "a6625952-6d18-45d6-abc3-8fc0c873d4be"
      },
      "execution_count": 39,
      "outputs": [
        {
          "output_type": "stream",
          "name": "stdout",
          "text": [
            "R-squared: 0.5643953296849679\n"
          ]
        }
      ]
    }
  ]
}