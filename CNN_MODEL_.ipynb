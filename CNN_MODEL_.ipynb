{
  "nbformat": 4,
  "nbformat_minor": 0,
  "metadata": {
    "colab": {
      "provenance": [],
      "authorship_tag": "ABX9TyPJh9cUGHbJitC2pX+xXSYV",
      "include_colab_link": true
    },
    "kernelspec": {
      "name": "python3",
      "display_name": "Python 3"
    },
    "language_info": {
      "name": "python"
    }
  },
  "cells": [
    {
      "cell_type": "markdown",
      "metadata": {
        "id": "view-in-github",
        "colab_type": "text"
      },
      "source": [
        "<a href=\"https://colab.research.google.com/github/BANOTHSANDEEP5/ANN-AND-RNN/blob/main/CNN_MODEL_.ipynb\" target=\"_parent\"><img src=\"https://colab.research.google.com/assets/colab-badge.svg\" alt=\"Open In Colab\"/></a>"
      ]
    },
    {
      "cell_type": "code",
      "execution_count": 137,
      "metadata": {
        "id": "dWvrQu6_x-6U"
      },
      "outputs": [],
      "source": [
        "import pandas as pd\n",
        "import numpy as np\n",
        "from sklearn.model_selection import train_test_split\n",
        "from sklearn.metrics import r2_score\n",
        "from sklearn.preprocessing import MinMaxScaler\n",
        "from tensorflow.keras.models import Sequential\n",
        "from tensorflow.keras.layers import Dense, Conv1D, MaxPooling1D, Flatten, ZeroPadding1D"
      ]
    },
    {
      "cell_type": "code",
      "source": [
        "data = pd.read_csv('data_csv.csv')"
      ],
      "metadata": {
        "id": "eZDxUg7Vx_1R"
      },
      "execution_count": 138,
      "outputs": []
    },
    {
      "cell_type": "code",
      "source": [
        "X = data.drop('Porosity (%)', axis=1)\n",
        "y = data['Porosity (%)']"
      ],
      "metadata": {
        "id": "BDTwygNFzlkw"
      },
      "execution_count": 139,
      "outputs": []
    },
    {
      "cell_type": "code",
      "source": [
        "X = pd.get_dummies(X, columns=['Curing condition'])"
      ],
      "metadata": {
        "id": "Xao4duZY0nO4"
      },
      "execution_count": 140,
      "outputs": []
    },
    {
      "cell_type": "code",
      "source": [
        "X_train, X_test, y_train, y_test = train_test_split(X, y, test_size=0.2, random_state=42)"
      ],
      "metadata": {
        "id": "4fjLQjY8yCzS"
      },
      "execution_count": 141,
      "outputs": []
    },
    {
      "cell_type": "code",
      "source": [
        "scaler = MinMaxScaler()\n",
        "X_train = scaler.fit_transform(X_train)\n",
        "X_test = scaler.transform(X_test)"
      ],
      "metadata": {
        "id": "EmAMRaw90VYw"
      },
      "execution_count": 142,
      "outputs": []
    },
    {
      "cell_type": "code",
      "source": [
        "X_train = X_train.reshape((X_train.shape[0], X_train.shape[1], 1))\n",
        "X_test = X_test.reshape((X_test.shape[0], X_test.shape[1], 1))"
      ],
      "metadata": {
        "id": "Y-6LUBQVyQaB"
      },
      "execution_count": 143,
      "outputs": []
    },
    {
      "cell_type": "code",
      "source": [
        "model = Sequential()\n",
        "model.add(ZeroPadding1D(padding=2, input_shape=(X_train.shape[1], 1)))\n",
        "model.add(Conv1D(filters=64, kernel_size=3, activation='relu'))\n",
        "model.add(MaxPooling1D(pool_size=2))\n",
        "model.add(Conv1D(filters=32, kernel_size=3, activation='relu'))\n",
        "model.add(Flatten())\n",
        "model.add(Dense(units=64, activation='relu'))\n",
        "model.add(Dense(units=1))"
      ],
      "metadata": {
        "id": "NYaoKMkvySCx"
      },
      "execution_count": 144,
      "outputs": []
    },
    {
      "cell_type": "code",
      "source": [
        "model.compile(optimizer='adam', loss='mean_squared_error')"
      ],
      "metadata": {
        "id": "KlvP-VVXyTxJ"
      },
      "execution_count": 145,
      "outputs": []
    },
    {
      "cell_type": "code",
      "source": [
        "model.fit(X_train, y_train, epochs=100, batch_size=32, validation_data=(X_test, y_test), verbose=1)\n"
      ],
      "metadata": {
        "colab": {
          "base_uri": "https://localhost:8080/"
        },
        "id": "o9pVg6PVyVx5",
        "outputId": "37219740-a7fa-4b54-fbe7-fdc88dcd4c09"
      },
      "execution_count": 154,
      "outputs": [
        {
          "output_type": "stream",
          "name": "stdout",
          "text": [
            "Epoch 1/100\n",
            "7/7 [==============================] - 0s 18ms/step - loss: 2.7147 - val_loss: 3.6322\n",
            "Epoch 2/100\n",
            "7/7 [==============================] - 0s 10ms/step - loss: 2.9691 - val_loss: 3.3454\n",
            "Epoch 3/100\n",
            "7/7 [==============================] - 0s 10ms/step - loss: 2.6180 - val_loss: 2.9699\n",
            "Epoch 4/100\n",
            "7/7 [==============================] - 0s 10ms/step - loss: 2.6014 - val_loss: 2.9864\n",
            "Epoch 5/100\n",
            "7/7 [==============================] - 0s 13ms/step - loss: 2.8318 - val_loss: 3.0824\n",
            "Epoch 6/100\n",
            "7/7 [==============================] - 0s 13ms/step - loss: 2.5995 - val_loss: 3.6547\n",
            "Epoch 7/100\n",
            "7/7 [==============================] - 0s 11ms/step - loss: 3.1303 - val_loss: 3.3652\n",
            "Epoch 8/100\n",
            "7/7 [==============================] - 0s 11ms/step - loss: 2.7144 - val_loss: 3.2471\n",
            "Epoch 9/100\n",
            "7/7 [==============================] - 0s 12ms/step - loss: 2.6864 - val_loss: 3.3579\n",
            "Epoch 10/100\n",
            "7/7 [==============================] - 0s 12ms/step - loss: 2.5413 - val_loss: 3.2307\n",
            "Epoch 11/100\n",
            "7/7 [==============================] - 0s 12ms/step - loss: 2.5381 - val_loss: 3.0953\n",
            "Epoch 12/100\n",
            "7/7 [==============================] - 0s 10ms/step - loss: 2.8663 - val_loss: 2.9679\n",
            "Epoch 13/100\n",
            "7/7 [==============================] - 0s 10ms/step - loss: 2.7405 - val_loss: 2.8789\n",
            "Epoch 14/100\n",
            "7/7 [==============================] - 0s 13ms/step - loss: 2.6483 - val_loss: 2.8522\n",
            "Epoch 15/100\n",
            "7/7 [==============================] - 0s 10ms/step - loss: 2.6749 - val_loss: 3.4702\n",
            "Epoch 16/100\n",
            "7/7 [==============================] - 0s 11ms/step - loss: 3.1531 - val_loss: 3.4212\n",
            "Epoch 17/100\n",
            "7/7 [==============================] - 0s 13ms/step - loss: 2.5416 - val_loss: 3.1301\n",
            "Epoch 18/100\n",
            "7/7 [==============================] - 0s 10ms/step - loss: 2.9956 - val_loss: 3.1067\n",
            "Epoch 19/100\n",
            "7/7 [==============================] - 0s 9ms/step - loss: 2.8556 - val_loss: 3.3135\n",
            "Epoch 20/100\n",
            "7/7 [==============================] - 0s 12ms/step - loss: 2.9144 - val_loss: 3.3900\n",
            "Epoch 21/100\n",
            "7/7 [==============================] - 0s 13ms/step - loss: 2.9462 - val_loss: 3.9734\n",
            "Epoch 22/100\n",
            "7/7 [==============================] - 0s 10ms/step - loss: 2.6921 - val_loss: 3.1857\n",
            "Epoch 23/100\n",
            "7/7 [==============================] - 0s 13ms/step - loss: 2.7115 - val_loss: 3.1866\n",
            "Epoch 24/100\n",
            "7/7 [==============================] - 0s 14ms/step - loss: 2.5246 - val_loss: 3.3011\n",
            "Epoch 25/100\n",
            "7/7 [==============================] - 0s 14ms/step - loss: 2.5248 - val_loss: 3.3417\n",
            "Epoch 26/100\n",
            "7/7 [==============================] - 0s 13ms/step - loss: 2.7027 - val_loss: 3.4204\n",
            "Epoch 27/100\n",
            "7/7 [==============================] - 0s 13ms/step - loss: 2.5198 - val_loss: 3.5010\n",
            "Epoch 28/100\n",
            "7/7 [==============================] - 0s 11ms/step - loss: 3.3290 - val_loss: 4.0051\n",
            "Epoch 29/100\n",
            "7/7 [==============================] - 0s 13ms/step - loss: 3.1027 - val_loss: 3.9523\n",
            "Epoch 30/100\n",
            "7/7 [==============================] - 0s 12ms/step - loss: 2.9942 - val_loss: 4.6850\n",
            "Epoch 31/100\n",
            "7/7 [==============================] - 0s 13ms/step - loss: 3.1094 - val_loss: 4.1760\n",
            "Epoch 32/100\n",
            "7/7 [==============================] - 0s 13ms/step - loss: 2.6332 - val_loss: 3.8133\n",
            "Epoch 33/100\n",
            "7/7 [==============================] - 0s 14ms/step - loss: 2.6291 - val_loss: 3.7709\n",
            "Epoch 34/100\n",
            "7/7 [==============================] - 0s 7ms/step - loss: 2.5945 - val_loss: 3.9206\n",
            "Epoch 35/100\n",
            "7/7 [==============================] - 0s 7ms/step - loss: 2.5915 - val_loss: 3.7592\n",
            "Epoch 36/100\n",
            "7/7 [==============================] - 0s 7ms/step - loss: 2.5945 - val_loss: 3.5235\n",
            "Epoch 37/100\n",
            "7/7 [==============================] - 0s 7ms/step - loss: 2.5089 - val_loss: 3.4908\n",
            "Epoch 38/100\n",
            "7/7 [==============================] - 0s 7ms/step - loss: 2.4945 - val_loss: 3.2952\n",
            "Epoch 39/100\n",
            "7/7 [==============================] - 0s 7ms/step - loss: 3.0793 - val_loss: 3.1709\n",
            "Epoch 40/100\n",
            "7/7 [==============================] - 0s 10ms/step - loss: 2.5282 - val_loss: 3.2365\n",
            "Epoch 41/100\n",
            "7/7 [==============================] - 0s 10ms/step - loss: 2.6232 - val_loss: 3.1637\n",
            "Epoch 42/100\n",
            "7/7 [==============================] - 0s 7ms/step - loss: 2.7538 - val_loss: 3.2092\n",
            "Epoch 43/100\n",
            "7/7 [==============================] - 0s 7ms/step - loss: 2.7365 - val_loss: 3.2289\n",
            "Epoch 44/100\n",
            "7/7 [==============================] - 0s 7ms/step - loss: 2.4732 - val_loss: 3.0086\n",
            "Epoch 45/100\n",
            "7/7 [==============================] - 0s 7ms/step - loss: 2.5591 - val_loss: 3.2393\n",
            "Epoch 46/100\n",
            "7/7 [==============================] - 0s 7ms/step - loss: 2.5525 - val_loss: 3.3051\n",
            "Epoch 47/100\n",
            "7/7 [==============================] - 0s 9ms/step - loss: 2.5167 - val_loss: 3.0432\n",
            "Epoch 48/100\n",
            "7/7 [==============================] - 0s 10ms/step - loss: 2.4633 - val_loss: 3.2223\n",
            "Epoch 49/100\n",
            "7/7 [==============================] - 0s 10ms/step - loss: 2.4421 - val_loss: 3.2261\n",
            "Epoch 50/100\n",
            "7/7 [==============================] - 0s 7ms/step - loss: 2.4956 - val_loss: 3.1087\n",
            "Epoch 51/100\n",
            "7/7 [==============================] - 0s 7ms/step - loss: 2.6193 - val_loss: 3.0181\n",
            "Epoch 52/100\n",
            "7/7 [==============================] - 0s 10ms/step - loss: 2.5350 - val_loss: 3.6442\n",
            "Epoch 53/100\n",
            "7/7 [==============================] - 0s 7ms/step - loss: 2.6028 - val_loss: 3.0595\n",
            "Epoch 54/100\n",
            "7/7 [==============================] - 0s 10ms/step - loss: 2.4224 - val_loss: 3.0710\n",
            "Epoch 55/100\n",
            "7/7 [==============================] - 0s 10ms/step - loss: 2.4425 - val_loss: 2.9982\n",
            "Epoch 56/100\n",
            "7/7 [==============================] - 0s 8ms/step - loss: 2.5046 - val_loss: 3.1868\n",
            "Epoch 57/100\n",
            "7/7 [==============================] - 0s 10ms/step - loss: 2.4999 - val_loss: 3.2551\n",
            "Epoch 58/100\n",
            "7/7 [==============================] - 0s 9ms/step - loss: 2.4661 - val_loss: 3.1567\n",
            "Epoch 59/100\n",
            "7/7 [==============================] - 0s 10ms/step - loss: 2.4735 - val_loss: 3.3691\n",
            "Epoch 60/100\n",
            "7/7 [==============================] - 0s 7ms/step - loss: 2.5751 - val_loss: 3.2277\n",
            "Epoch 61/100\n",
            "7/7 [==============================] - 0s 10ms/step - loss: 2.3810 - val_loss: 3.7173\n",
            "Epoch 62/100\n",
            "7/7 [==============================] - 0s 7ms/step - loss: 2.4977 - val_loss: 3.2612\n",
            "Epoch 63/100\n",
            "7/7 [==============================] - 0s 8ms/step - loss: 2.7873 - val_loss: 3.2761\n",
            "Epoch 64/100\n",
            "7/7 [==============================] - 0s 7ms/step - loss: 2.4815 - val_loss: 3.7426\n",
            "Epoch 65/100\n",
            "7/7 [==============================] - 0s 8ms/step - loss: 2.4067 - val_loss: 3.3004\n",
            "Epoch 66/100\n",
            "7/7 [==============================] - 0s 7ms/step - loss: 2.4294 - val_loss: 3.5356\n",
            "Epoch 67/100\n",
            "7/7 [==============================] - 0s 7ms/step - loss: 2.4435 - val_loss: 3.2705\n",
            "Epoch 68/100\n",
            "7/7 [==============================] - 0s 7ms/step - loss: 2.4052 - val_loss: 3.3029\n",
            "Epoch 69/100\n",
            "7/7 [==============================] - 0s 10ms/step - loss: 2.4149 - val_loss: 3.0870\n",
            "Epoch 70/100\n",
            "7/7 [==============================] - 0s 7ms/step - loss: 2.3998 - val_loss: 3.1650\n",
            "Epoch 71/100\n",
            "7/7 [==============================] - 0s 10ms/step - loss: 2.3833 - val_loss: 3.4879\n",
            "Epoch 72/100\n",
            "7/7 [==============================] - 0s 10ms/step - loss: 2.7538 - val_loss: 3.3067\n",
            "Epoch 73/100\n",
            "7/7 [==============================] - 0s 7ms/step - loss: 2.6805 - val_loss: 3.0858\n",
            "Epoch 74/100\n",
            "7/7 [==============================] - 0s 11ms/step - loss: 2.5665 - val_loss: 3.3277\n",
            "Epoch 75/100\n",
            "7/7 [==============================] - 0s 7ms/step - loss: 2.4891 - val_loss: 3.1860\n",
            "Epoch 76/100\n",
            "7/7 [==============================] - 0s 8ms/step - loss: 2.4216 - val_loss: 3.0567\n",
            "Epoch 77/100\n",
            "7/7 [==============================] - 0s 7ms/step - loss: 2.5657 - val_loss: 3.0447\n",
            "Epoch 78/100\n",
            "7/7 [==============================] - 0s 7ms/step - loss: 2.4354 - val_loss: 3.3136\n",
            "Epoch 79/100\n",
            "7/7 [==============================] - 0s 9ms/step - loss: 2.3772 - val_loss: 2.9651\n",
            "Epoch 80/100\n",
            "7/7 [==============================] - 0s 10ms/step - loss: 2.6060 - val_loss: 2.9911\n",
            "Epoch 81/100\n",
            "7/7 [==============================] - 0s 8ms/step - loss: 2.5138 - val_loss: 2.8571\n",
            "Epoch 82/100\n",
            "7/7 [==============================] - 0s 7ms/step - loss: 2.8936 - val_loss: 2.7685\n",
            "Epoch 83/100\n",
            "7/7 [==============================] - 0s 10ms/step - loss: 2.8248 - val_loss: 4.1359\n",
            "Epoch 84/100\n",
            "7/7 [==============================] - 0s 8ms/step - loss: 2.6011 - val_loss: 3.0600\n",
            "Epoch 85/100\n",
            "7/7 [==============================] - 0s 10ms/step - loss: 2.8013 - val_loss: 3.1424\n",
            "Epoch 86/100\n",
            "7/7 [==============================] - 0s 8ms/step - loss: 2.4617 - val_loss: 3.1215\n",
            "Epoch 87/100\n",
            "7/7 [==============================] - 0s 7ms/step - loss: 2.5160 - val_loss: 2.8903\n",
            "Epoch 88/100\n",
            "7/7 [==============================] - 0s 7ms/step - loss: 2.4215 - val_loss: 2.9922\n",
            "Epoch 89/100\n",
            "7/7 [==============================] - 0s 7ms/step - loss: 2.6520 - val_loss: 2.9995\n",
            "Epoch 90/100\n",
            "7/7 [==============================] - 0s 10ms/step - loss: 2.6983 - val_loss: 4.6829\n",
            "Epoch 91/100\n",
            "7/7 [==============================] - 0s 7ms/step - loss: 2.9982 - val_loss: 3.0419\n",
            "Epoch 92/100\n",
            "7/7 [==============================] - 0s 7ms/step - loss: 2.9166 - val_loss: 3.0567\n",
            "Epoch 93/100\n",
            "7/7 [==============================] - 0s 10ms/step - loss: 2.5281 - val_loss: 3.3456\n",
            "Epoch 94/100\n",
            "7/7 [==============================] - 0s 10ms/step - loss: 2.6184 - val_loss: 2.8998\n",
            "Epoch 95/100\n",
            "7/7 [==============================] - 0s 7ms/step - loss: 2.4882 - val_loss: 3.3742\n",
            "Epoch 96/100\n",
            "7/7 [==============================] - 0s 7ms/step - loss: 2.4685 - val_loss: 2.8717\n",
            "Epoch 97/100\n",
            "7/7 [==============================] - 0s 7ms/step - loss: 2.5997 - val_loss: 2.8906\n",
            "Epoch 98/100\n",
            "7/7 [==============================] - 0s 12ms/step - loss: 2.4582 - val_loss: 3.1427\n",
            "Epoch 99/100\n",
            "7/7 [==============================] - 0s 10ms/step - loss: 2.3497 - val_loss: 2.9450\n",
            "Epoch 100/100\n",
            "7/7 [==============================] - 0s 10ms/step - loss: 2.4121 - val_loss: 3.0345\n"
          ]
        },
        {
          "output_type": "execute_result",
          "data": {
            "text/plain": [
              "<keras.src.callbacks.History at 0x799addc81750>"
            ]
          },
          "metadata": {},
          "execution_count": 154
        }
      ]
    },
    {
      "cell_type": "code",
      "source": [
        "loss = model.evaluate(X_test, y_test, verbose=0)\n",
        "print('Test loss:', loss)"
      ],
      "metadata": {
        "colab": {
          "base_uri": "https://localhost:8080/"
        },
        "id": "q-o3GMXayY0B",
        "outputId": "fd659ac9-722c-4bc7-c6dc-f8ce7c3aabc4"
      },
      "execution_count": 155,
      "outputs": [
        {
          "output_type": "stream",
          "name": "stdout",
          "text": [
            "Test loss: 3.0345029830932617\n"
          ]
        }
      ]
    },
    {
      "cell_type": "code",
      "source": [
        "y_pred = model.predict(X_test)"
      ],
      "metadata": {
        "colab": {
          "base_uri": "https://localhost:8080/"
        },
        "id": "dNTu9hpRyadZ",
        "outputId": "f56d381d-a804-4052-ed2c-01b72a394235"
      },
      "execution_count": 156,
      "outputs": [
        {
          "output_type": "stream",
          "name": "stdout",
          "text": [
            "2/2 [==============================] - 0s 5ms/step\n"
          ]
        }
      ]
    },
    {
      "cell_type": "code",
      "source": [
        "r2 = r2_score(y_test, y_pred)\n",
        "print('R-squared:', r2)"
      ],
      "metadata": {
        "colab": {
          "base_uri": "https://localhost:8080/"
        },
        "id": "rhPWksCeycE5",
        "outputId": "be70e42b-03e1-4b8a-b3e1-b4c6bc97472e"
      },
      "execution_count": 157,
      "outputs": [
        {
          "output_type": "stream",
          "name": "stdout",
          "text": [
            "R-squared: 0.6449191058713184\n"
          ]
        }
      ]
    }
  ]
}