{
  "nbformat": 4,
  "nbformat_minor": 0,
  "metadata": {
    "colab": {
      "provenance": [],
      "authorship_tag": "ABX9TyPrb7ITZcLofUc/bysCcwgI",
      "include_colab_link": true
    },
    "kernelspec": {
      "name": "python3",
      "display_name": "Python 3"
    },
    "language_info": {
      "name": "python"
    }
  },
  "cells": [
    {
      "cell_type": "markdown",
      "metadata": {
        "id": "view-in-github",
        "colab_type": "text"
      },
      "source": [
        "<a href=\"https://colab.research.google.com/github/BANOTHSANDEEP5/ANN-AND-RNN/blob/main/ANN_AND_RNN.ipynb\" target=\"_parent\"><img src=\"https://colab.research.google.com/assets/colab-badge.svg\" alt=\"Open In Colab\"/></a>"
      ]
    },
    {
      "cell_type": "code",
      "execution_count": 27,
      "metadata": {
        "id": "IE--cegRnz17"
      },
      "outputs": [],
      "source": [
        "import pandas as pd\n",
        "import numpy as np\n",
        "from sklearn.model_selection import train_test_split\n",
        "from sklearn.preprocessing import MinMaxScaler\n",
        "from tensorflow.keras.models import Sequential\n",
        "from tensorflow.keras.layers import Dense, SimpleRNN\n",
        "from sklearn.metrics import r2_score\n"
      ]
    },
    {
      "cell_type": "code",
      "source": [
        "data = pd.read_csv('data_csv.csv')"
      ],
      "metadata": {
        "id": "tHcpKtN2n6ao"
      },
      "execution_count": 28,
      "outputs": []
    },
    {
      "cell_type": "code",
      "source": [
        "X = data[['water/binder ', 'Binder (kg/m^3)', 'Fly ash (%)', 'GGBS (%)', 'SP (%)', 'Aggregate (CA/ FA)', 'Curing Days', 'Curing condition']]\n",
        "y = data['Porosity (%)']"
      ],
      "metadata": {
        "id": "CCyBKeyMoAlS"
      },
      "execution_count": 29,
      "outputs": []
    },
    {
      "cell_type": "code",
      "source": [
        "X = pd.get_dummies(X, columns=['Curing condition'])"
      ],
      "metadata": {
        "id": "WIqLvgW4oDO5"
      },
      "execution_count": 30,
      "outputs": []
    },
    {
      "cell_type": "code",
      "source": [
        "X_train, X_test, y_train, y_test = train_test_split(X, y, test_size=0.2, random_state=42)"
      ],
      "metadata": {
        "id": "-vGWw5u7oFWf"
      },
      "execution_count": 31,
      "outputs": []
    },
    {
      "cell_type": "code",
      "source": [
        "scaler = MinMaxScaler()\n",
        "X_train = scaler.fit_transform(X_train)\n",
        "X_test = scaler.transform(X_test)"
      ],
      "metadata": {
        "id": "NdBfeDWYoHSv"
      },
      "execution_count": 32,
      "outputs": []
    },
    {
      "cell_type": "code",
      "source": [
        "X_train = X_train.reshape((X_train.shape[0], 1, X_train.shape[1]))\n",
        "X_test = X_test.reshape((X_test.shape[0], 1, X_test.shape[1]))"
      ],
      "metadata": {
        "id": "4GuENn3soUH3"
      },
      "execution_count": 33,
      "outputs": []
    },
    {
      "cell_type": "code",
      "source": [
        "model = Sequential()\n",
        "model.add(SimpleRNN(units=64, input_shape=(1, X_train.shape[2])))\n",
        "model.add(Dense(units=128, activation='relu'))\n",
        "model.add(Dense(units=64, activation='relu'))\n",
        "model.add(Dense(units=1))"
      ],
      "metadata": {
        "id": "fcdovjt6oUpn"
      },
      "execution_count": 34,
      "outputs": []
    },
    {
      "cell_type": "code",
      "source": [
        "model.compile(optimizer='adam', loss='mean_squared_error')"
      ],
      "metadata": {
        "id": "Dst42U1moW7H"
      },
      "execution_count": 35,
      "outputs": []
    },
    {
      "cell_type": "code",
      "source": [
        "model.fit(X_train, y_train, epochs=100, batch_size=32, validation_data=(X_test, y_test), verbose=1)"
      ],
      "metadata": {
        "colab": {
          "base_uri": "https://localhost:8080/"
        },
        "id": "2YR7a_3foZSZ",
        "outputId": "b4b48a5f-9d51-415d-8ea4-4e169e15306b"
      },
      "execution_count": 44,
      "outputs": [
        {
          "output_type": "stream",
          "name": "stdout",
          "text": [
            "Epoch 1/100\n",
            "7/7 [==============================] - 0s 18ms/step - loss: 2.3552 - val_loss: 3.4107\n",
            "Epoch 2/100\n",
            "7/7 [==============================] - 0s 11ms/step - loss: 2.1760 - val_loss: 3.5753\n",
            "Epoch 3/100\n",
            "7/7 [==============================] - 0s 8ms/step - loss: 2.0891 - val_loss: 4.5225\n",
            "Epoch 4/100\n",
            "7/7 [==============================] - 0s 11ms/step - loss: 2.7528 - val_loss: 5.4634\n",
            "Epoch 5/100\n",
            "7/7 [==============================] - 0s 8ms/step - loss: 2.3640 - val_loss: 5.2338\n",
            "Epoch 6/100\n",
            "7/7 [==============================] - 0s 10ms/step - loss: 2.7046 - val_loss: 8.2747\n",
            "Epoch 7/100\n",
            "7/7 [==============================] - 0s 11ms/step - loss: 3.3259 - val_loss: 5.4414\n",
            "Epoch 8/100\n",
            "7/7 [==============================] - 0s 11ms/step - loss: 2.5824 - val_loss: 4.4855\n",
            "Epoch 9/100\n",
            "7/7 [==============================] - 0s 10ms/step - loss: 2.4735 - val_loss: 4.0444\n",
            "Epoch 10/100\n",
            "7/7 [==============================] - 0s 9ms/step - loss: 2.5956 - val_loss: 3.6922\n",
            "Epoch 11/100\n",
            "7/7 [==============================] - 0s 7ms/step - loss: 2.3984 - val_loss: 3.4422\n",
            "Epoch 12/100\n",
            "7/7 [==============================] - 0s 10ms/step - loss: 2.1963 - val_loss: 3.3517\n",
            "Epoch 13/100\n",
            "7/7 [==============================] - 0s 8ms/step - loss: 2.1467 - val_loss: 3.2722\n",
            "Epoch 14/100\n",
            "7/7 [==============================] - 0s 10ms/step - loss: 2.0309 - val_loss: 3.8984\n",
            "Epoch 15/100\n",
            "7/7 [==============================] - 0s 11ms/step - loss: 2.0489 - val_loss: 4.0729\n",
            "Epoch 16/100\n",
            "7/7 [==============================] - 0s 11ms/step - loss: 2.8562 - val_loss: 4.4653\n",
            "Epoch 17/100\n",
            "7/7 [==============================] - 0s 8ms/step - loss: 3.2213 - val_loss: 4.4512\n",
            "Epoch 18/100\n",
            "7/7 [==============================] - 0s 9ms/step - loss: 2.6976 - val_loss: 3.2193\n",
            "Epoch 19/100\n",
            "7/7 [==============================] - 0s 8ms/step - loss: 2.9735 - val_loss: 2.9678\n",
            "Epoch 20/100\n",
            "7/7 [==============================] - 0s 11ms/step - loss: 2.2775 - val_loss: 3.3314\n",
            "Epoch 21/100\n",
            "7/7 [==============================] - 0s 9ms/step - loss: 2.3221 - val_loss: 3.2248\n",
            "Epoch 22/100\n",
            "7/7 [==============================] - 0s 12ms/step - loss: 2.0704 - val_loss: 3.4461\n",
            "Epoch 23/100\n",
            "7/7 [==============================] - 0s 10ms/step - loss: 1.9856 - val_loss: 3.4271\n",
            "Epoch 24/100\n",
            "7/7 [==============================] - 0s 11ms/step - loss: 1.9405 - val_loss: 3.4482\n",
            "Epoch 25/100\n",
            "7/7 [==============================] - 0s 13ms/step - loss: 1.9573 - val_loss: 3.3847\n",
            "Epoch 26/100\n",
            "7/7 [==============================] - 0s 13ms/step - loss: 1.9838 - val_loss: 4.2368\n",
            "Epoch 27/100\n",
            "7/7 [==============================] - 0s 14ms/step - loss: 2.7666 - val_loss: 4.6482\n",
            "Epoch 28/100\n",
            "7/7 [==============================] - 0s 11ms/step - loss: 2.0895 - val_loss: 4.5263\n",
            "Epoch 29/100\n",
            "7/7 [==============================] - 0s 11ms/step - loss: 2.1323 - val_loss: 4.6266\n",
            "Epoch 30/100\n",
            "7/7 [==============================] - 0s 15ms/step - loss: 2.0554 - val_loss: 4.0841\n",
            "Epoch 31/100\n",
            "7/7 [==============================] - 0s 15ms/step - loss: 1.9290 - val_loss: 3.6529\n",
            "Epoch 32/100\n",
            "7/7 [==============================] - 0s 12ms/step - loss: 2.1412 - val_loss: 3.1493\n",
            "Epoch 33/100\n",
            "7/7 [==============================] - 0s 14ms/step - loss: 1.9469 - val_loss: 3.3451\n",
            "Epoch 34/100\n",
            "7/7 [==============================] - 0s 13ms/step - loss: 2.2649 - val_loss: 3.1662\n",
            "Epoch 35/100\n",
            "7/7 [==============================] - 0s 13ms/step - loss: 1.8747 - val_loss: 3.1810\n",
            "Epoch 36/100\n",
            "7/7 [==============================] - 0s 11ms/step - loss: 2.0644 - val_loss: 3.1898\n",
            "Epoch 37/100\n",
            "7/7 [==============================] - 0s 12ms/step - loss: 1.8380 - val_loss: 3.4226\n",
            "Epoch 38/100\n",
            "7/7 [==============================] - 0s 13ms/step - loss: 1.9248 - val_loss: 3.3953\n",
            "Epoch 39/100\n",
            "7/7 [==============================] - 0s 11ms/step - loss: 1.8929 - val_loss: 3.6268\n",
            "Epoch 40/100\n",
            "7/7 [==============================] - 0s 14ms/step - loss: 1.9588 - val_loss: 3.7186\n",
            "Epoch 41/100\n",
            "7/7 [==============================] - 0s 13ms/step - loss: 2.0625 - val_loss: 3.9900\n",
            "Epoch 42/100\n",
            "7/7 [==============================] - 0s 15ms/step - loss: 2.1490 - val_loss: 4.1572\n",
            "Epoch 43/100\n",
            "7/7 [==============================] - 0s 15ms/step - loss: 1.8983 - val_loss: 4.2044\n",
            "Epoch 44/100\n",
            "7/7 [==============================] - 0s 16ms/step - loss: 1.8335 - val_loss: 3.9049\n",
            "Epoch 45/100\n",
            "7/7 [==============================] - 0s 14ms/step - loss: 1.8096 - val_loss: 3.6822\n",
            "Epoch 46/100\n",
            "7/7 [==============================] - 0s 14ms/step - loss: 1.7866 - val_loss: 3.5833\n",
            "Epoch 47/100\n",
            "7/7 [==============================] - 0s 13ms/step - loss: 1.8036 - val_loss: 3.4585\n",
            "Epoch 48/100\n",
            "7/7 [==============================] - 0s 15ms/step - loss: 1.7444 - val_loss: 3.5053\n",
            "Epoch 49/100\n",
            "7/7 [==============================] - 0s 12ms/step - loss: 1.7395 - val_loss: 3.4266\n",
            "Epoch 50/100\n",
            "7/7 [==============================] - 0s 14ms/step - loss: 1.7612 - val_loss: 3.5177\n",
            "Epoch 51/100\n",
            "7/7 [==============================] - 0s 10ms/step - loss: 1.7346 - val_loss: 3.6587\n",
            "Epoch 52/100\n",
            "7/7 [==============================] - 0s 11ms/step - loss: 2.0136 - val_loss: 4.6670\n",
            "Epoch 53/100\n",
            "7/7 [==============================] - 0s 8ms/step - loss: 1.9182 - val_loss: 3.8049\n",
            "Epoch 54/100\n",
            "7/7 [==============================] - 0s 11ms/step - loss: 1.8247 - val_loss: 3.7015\n",
            "Epoch 55/100\n",
            "7/7 [==============================] - 0s 11ms/step - loss: 2.1153 - val_loss: 3.8875\n",
            "Epoch 56/100\n",
            "7/7 [==============================] - 0s 10ms/step - loss: 1.8259 - val_loss: 3.4919\n",
            "Epoch 57/100\n",
            "7/7 [==============================] - 0s 11ms/step - loss: 1.7454 - val_loss: 3.9282\n",
            "Epoch 58/100\n",
            "7/7 [==============================] - 0s 11ms/step - loss: 1.7820 - val_loss: 3.4741\n",
            "Epoch 59/100\n",
            "7/7 [==============================] - 0s 8ms/step - loss: 2.0343 - val_loss: 3.4312\n",
            "Epoch 60/100\n",
            "7/7 [==============================] - 0s 8ms/step - loss: 2.1183 - val_loss: 3.8070\n",
            "Epoch 61/100\n",
            "7/7 [==============================] - 0s 11ms/step - loss: 1.9648 - val_loss: 3.3787\n",
            "Epoch 62/100\n",
            "7/7 [==============================] - 0s 10ms/step - loss: 1.8766 - val_loss: 3.6976\n",
            "Epoch 63/100\n",
            "7/7 [==============================] - 0s 10ms/step - loss: 1.7706 - val_loss: 3.3956\n",
            "Epoch 64/100\n",
            "7/7 [==============================] - 0s 8ms/step - loss: 1.6922 - val_loss: 3.5805\n",
            "Epoch 65/100\n",
            "7/7 [==============================] - 0s 10ms/step - loss: 1.9800 - val_loss: 4.5274\n",
            "Epoch 66/100\n",
            "7/7 [==============================] - 0s 8ms/step - loss: 1.7759 - val_loss: 4.0137\n",
            "Epoch 67/100\n",
            "7/7 [==============================] - 0s 8ms/step - loss: 2.0876 - val_loss: 3.9549\n",
            "Epoch 68/100\n",
            "7/7 [==============================] - 0s 8ms/step - loss: 1.9831 - val_loss: 4.3467\n",
            "Epoch 69/100\n",
            "7/7 [==============================] - 0s 11ms/step - loss: 1.7940 - val_loss: 3.5512\n",
            "Epoch 70/100\n",
            "7/7 [==============================] - 0s 8ms/step - loss: 1.7339 - val_loss: 3.5582\n",
            "Epoch 71/100\n",
            "7/7 [==============================] - 0s 10ms/step - loss: 1.6962 - val_loss: 3.5666\n",
            "Epoch 72/100\n",
            "7/7 [==============================] - 0s 8ms/step - loss: 1.6545 - val_loss: 3.4111\n",
            "Epoch 73/100\n",
            "7/7 [==============================] - 0s 10ms/step - loss: 1.7244 - val_loss: 3.5451\n",
            "Epoch 74/100\n",
            "7/7 [==============================] - 0s 8ms/step - loss: 1.6843 - val_loss: 3.5369\n",
            "Epoch 75/100\n",
            "7/7 [==============================] - 0s 10ms/step - loss: 1.6715 - val_loss: 3.6451\n",
            "Epoch 76/100\n",
            "7/7 [==============================] - 0s 8ms/step - loss: 1.7265 - val_loss: 3.4931\n",
            "Epoch 77/100\n",
            "7/7 [==============================] - 0s 11ms/step - loss: 1.7329 - val_loss: 3.7618\n",
            "Epoch 78/100\n",
            "7/7 [==============================] - 0s 11ms/step - loss: 1.9249 - val_loss: 3.4334\n",
            "Epoch 79/100\n",
            "7/7 [==============================] - 0s 11ms/step - loss: 1.7874 - val_loss: 3.4416\n",
            "Epoch 80/100\n",
            "7/7 [==============================] - 0s 11ms/step - loss: 1.7118 - val_loss: 3.5733\n",
            "Epoch 81/100\n",
            "7/7 [==============================] - 0s 10ms/step - loss: 1.5977 - val_loss: 3.7287\n",
            "Epoch 82/100\n",
            "7/7 [==============================] - 0s 11ms/step - loss: 1.6039 - val_loss: 3.5877\n",
            "Epoch 83/100\n",
            "7/7 [==============================] - 0s 8ms/step - loss: 1.8546 - val_loss: 3.5388\n",
            "Epoch 84/100\n",
            "7/7 [==============================] - 0s 11ms/step - loss: 1.8110 - val_loss: 3.4646\n",
            "Epoch 85/100\n",
            "7/7 [==============================] - 0s 8ms/step - loss: 1.7289 - val_loss: 3.1318\n",
            "Epoch 86/100\n",
            "7/7 [==============================] - 0s 10ms/step - loss: 1.7155 - val_loss: 3.1491\n",
            "Epoch 87/100\n",
            "7/7 [==============================] - 0s 9ms/step - loss: 1.6377 - val_loss: 3.3354\n",
            "Epoch 88/100\n",
            "7/7 [==============================] - 0s 8ms/step - loss: 1.6217 - val_loss: 3.2441\n",
            "Epoch 89/100\n",
            "7/7 [==============================] - 0s 10ms/step - loss: 1.5900 - val_loss: 3.3314\n",
            "Epoch 90/100\n",
            "7/7 [==============================] - 0s 8ms/step - loss: 1.5583 - val_loss: 3.3875\n",
            "Epoch 91/100\n",
            "7/7 [==============================] - 0s 10ms/step - loss: 1.5468 - val_loss: 3.3289\n",
            "Epoch 92/100\n",
            "7/7 [==============================] - 0s 11ms/step - loss: 1.6123 - val_loss: 3.4432\n",
            "Epoch 93/100\n",
            "7/7 [==============================] - 0s 11ms/step - loss: 1.6538 - val_loss: 3.6322\n",
            "Epoch 94/100\n",
            "7/7 [==============================] - 0s 10ms/step - loss: 1.7011 - val_loss: 3.1602\n",
            "Epoch 95/100\n",
            "7/7 [==============================] - 0s 11ms/step - loss: 1.7263 - val_loss: 3.2509\n",
            "Epoch 96/100\n",
            "7/7 [==============================] - 0s 10ms/step - loss: 1.7252 - val_loss: 3.4813\n",
            "Epoch 97/100\n",
            "7/7 [==============================] - 0s 11ms/step - loss: 1.5292 - val_loss: 3.2812\n",
            "Epoch 98/100\n",
            "7/7 [==============================] - 0s 11ms/step - loss: 1.5790 - val_loss: 3.2920\n",
            "Epoch 99/100\n",
            "7/7 [==============================] - 0s 8ms/step - loss: 1.5405 - val_loss: 3.2394\n",
            "Epoch 100/100\n",
            "7/7 [==============================] - 0s 8ms/step - loss: 1.6986 - val_loss: 3.2015\n"
          ]
        },
        {
          "output_type": "execute_result",
          "data": {
            "text/plain": [
              "<keras.src.callbacks.History at 0x7c81a390a8f0>"
            ]
          },
          "metadata": {},
          "execution_count": 44
        }
      ]
    },
    {
      "cell_type": "code",
      "source": [
        "loss = model.evaluate(X_test, y_test, verbose=0)\n",
        "print('Test loss:', loss)"
      ],
      "metadata": {
        "colab": {
          "base_uri": "https://localhost:8080/"
        },
        "id": "ZITr4PNXocTL",
        "outputId": "2227aa4c-3df3-4395-c8a4-1b24a166c803"
      },
      "execution_count": 45,
      "outputs": [
        {
          "output_type": "stream",
          "name": "stdout",
          "text": [
            "Test loss: 3.2014732360839844\n"
          ]
        }
      ]
    },
    {
      "cell_type": "code",
      "source": [
        "y_pred = model.predict(X_test)"
      ],
      "metadata": {
        "colab": {
          "base_uri": "https://localhost:8080/"
        },
        "id": "z6lajjbIoeZL",
        "outputId": "9a6c5463-1147-419d-bdd9-e443d1414be3"
      },
      "execution_count": 46,
      "outputs": [
        {
          "output_type": "stream",
          "name": "stdout",
          "text": [
            "2/2 [==============================] - 0s 6ms/step\n"
          ]
        }
      ]
    },
    {
      "cell_type": "code",
      "source": [
        "r2 = r2_score(y_test, y_pred)\n",
        "print('R-squared:', r2)"
      ],
      "metadata": {
        "colab": {
          "base_uri": "https://localhost:8080/"
        },
        "id": "eUkuPyfhogbI",
        "outputId": "93bf609f-4870-4d1f-ab2c-1d40e0c420f0"
      },
      "execution_count": 47,
      "outputs": [
        {
          "output_type": "stream",
          "name": "stdout",
          "text": [
            "R-squared: 0.6253810720127176\n"
          ]
        }
      ]
    }
  ]
}