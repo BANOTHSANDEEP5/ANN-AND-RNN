{
  "nbformat": 4,
  "nbformat_minor": 0,
  "metadata": {
    "colab": {
      "provenance": [],
      "authorship_tag": "ABX9TyPrb7ITZcLofUc/bysCcwgI",
      "include_colab_link": true
    },
    "kernelspec": {
      "name": "python3",
      "display_name": "Python 3"
    },
    "language_info": {
      "name": "python"
    }
  },
  "cells": [
    {
      "cell_type": "markdown",
      "metadata": {
        "id": "view-in-github",
        "colab_type": "text"
      },
      "source": [
        "<a href=\"https://colab.research.google.com/github/BANOTHSANDEEP5/ANN-AND-RNN/blob/main/ANN_AND_RNN.ipynb\" target=\"_parent\"><img src=\"https://colab.research.google.com/assets/colab-badge.svg\" alt=\"Open In Colab\"/></a>"
      ]
    },
    {
      "cell_type": "code",
      "execution_count": 27,
      "metadata": {
        "id": "IE--cegRnz17"
      },
      "outputs": [],
      "source": [
        "import pandas as pd\n",
        "import numpy as np\n",
        "from sklearn.model_selection import train_test_split\n",
        "from sklearn.preprocessing import MinMaxScaler\n",
        "from tensorflow.keras.models import Sequential\n",
        "from tensorflow.keras.layers import Dense, SimpleRNN\n",
        "from sklearn.metrics import r2_score\n"
      ]
    },
    {
      "cell_type": "code",
      "source": [
        "data = pd.read_csv('data_csv.csv')"
      ],
      "metadata": {
        "id": "tHcpKtN2n6ao"
      },
      "execution_count": 28,
      "outputs": []
    },
    {
      "cell_type": "code",
      "source": [
        "X = data[['water/binder ', 'Binder (kg/m^3)', 'Fly ash (%)', 'GGBS (%)', 'SP (%)', 'Aggregate (CA/ FA)', 'Curing Days', 'Curing condition']]\n",
        "y = data['Porosity (%)']"
      ],
      "metadata": {
        "id": "CCyBKeyMoAlS"
      },
      "execution_count": 29,
      "outputs": []
    },
    {
      "cell_type": "code",
      "source": [
        "X = pd.get_dummies(X, columns=['Curing condition'])"
      ],
      "metadata": {
        "id": "WIqLvgW4oDO5"
      },
      "execution_count": 30,
      "outputs": []
    },
    {
      "cell_type": "code",
      "source": [
        "X_train, X_test, y_train, y_test = train_test_split(X, y, test_size=0.2, random_state=42)"
      ],
      "metadata": {
        "id": "-vGWw5u7oFWf"
      },
      "execution_count": 31,
      "outputs": []
    },
    {
      "cell_type": "code",
      "source": [
        "scaler = MinMaxScaler()\n",
        "X_train = scaler.fit_transform(X_train)\n",
        "X_test = scaler.transform(X_test)"
      ],
      "metadata": {
        "id": "NdBfeDWYoHSv"
      },
      "execution_count": 32,
      "outputs": []
    },
    {
      "cell_type": "code",
      "source": [
        "X_train = X_train.reshape((X_train.shape[0], 1, X_train.shape[1]))\n",
        "X_test = X_test.reshape((X_test.shape[0], 1, X_test.shape[1]))"
      ],
      "metadata": {
        "id": "4GuENn3soUH3"
      },
      "execution_count": 33,
      "outputs": []
    },
    {
      "cell_type": "code",
      "source": [
        "model = Sequential()\n",
        "model.add(SimpleRNN(units=64, input_shape=(1, X_train.shape[2])))\n",
        "model.add(Dense(units=128, activation='relu'))\n",
        "model.add(Dense(units=64, activation='relu'))\n",
        "model.add(Dense(units=1))"
      ],
      "metadata": {
        "id": "fcdovjt6oUpn"
      },
      "execution_count": 34,
      "outputs": []
    },
    {
      "cell_type": "code",
      "source": [
        "model.compile(optimizer='adam', loss='mean_squared_error')"
      ],
      "metadata": {
        "id": "Dst42U1moW7H"
      },
      "execution_count": 35,
      "outputs": []
    },
    {
      "cell_type": "code",
      "source": [
        "model.fit(X_train, y_train, epochs=100, batch_size=32, validation_data=(X_test, y_test), verbose=1)"
      ],
      "metadata": {
        "colab": {
          "base_uri": "https://localhost:8080/"
        },
        "id": "2YR7a_3foZSZ",
        "outputId": "4cc55cb3-7c0e-4450-dcef-59b2b2d5f8a9"
      },
      "execution_count": 56,
      "outputs": [
        {
          "output_type": "stream",
          "name": "stdout",
          "text": [
            "Epoch 1/100\n",
            "7/7 [==============================] - 0s 16ms/step - loss: 1.2128 - val_loss: 2.8681\n",
            "Epoch 2/100\n",
            "7/7 [==============================] - 0s 7ms/step - loss: 1.2521 - val_loss: 2.4539\n",
            "Epoch 3/100\n",
            "7/7 [==============================] - 0s 10ms/step - loss: 1.3462 - val_loss: 2.5832\n",
            "Epoch 4/100\n",
            "7/7 [==============================] - 0s 10ms/step - loss: 1.4020 - val_loss: 2.5925\n",
            "Epoch 5/100\n",
            "7/7 [==============================] - 0s 7ms/step - loss: 1.2526 - val_loss: 2.4567\n",
            "Epoch 6/100\n",
            "7/7 [==============================] - 0s 11ms/step - loss: 1.1986 - val_loss: 2.5318\n",
            "Epoch 7/100\n",
            "7/7 [==============================] - 0s 10ms/step - loss: 1.2094 - val_loss: 2.5484\n",
            "Epoch 8/100\n",
            "7/7 [==============================] - 0s 10ms/step - loss: 1.1491 - val_loss: 2.4997\n",
            "Epoch 9/100\n",
            "7/7 [==============================] - 0s 7ms/step - loss: 1.1506 - val_loss: 2.6178\n",
            "Epoch 10/100\n",
            "7/7 [==============================] - 0s 10ms/step - loss: 1.3049 - val_loss: 2.2413\n",
            "Epoch 11/100\n",
            "7/7 [==============================] - 0s 7ms/step - loss: 1.2169 - val_loss: 2.2446\n",
            "Epoch 12/100\n",
            "7/7 [==============================] - 0s 11ms/step - loss: 1.1255 - val_loss: 2.3977\n",
            "Epoch 13/100\n",
            "7/7 [==============================] - 0s 8ms/step - loss: 1.1100 - val_loss: 2.2996\n",
            "Epoch 14/100\n",
            "7/7 [==============================] - 0s 10ms/step - loss: 1.1024 - val_loss: 2.3002\n",
            "Epoch 15/100\n",
            "7/7 [==============================] - 0s 7ms/step - loss: 1.1378 - val_loss: 2.2837\n",
            "Epoch 16/100\n",
            "7/7 [==============================] - 0s 8ms/step - loss: 1.0791 - val_loss: 2.4678\n",
            "Epoch 17/100\n",
            "7/7 [==============================] - 0s 8ms/step - loss: 1.4054 - val_loss: 3.4967\n",
            "Epoch 18/100\n",
            "7/7 [==============================] - 0s 10ms/step - loss: 1.4223 - val_loss: 3.3107\n",
            "Epoch 19/100\n",
            "7/7 [==============================] - 0s 7ms/step - loss: 1.3061 - val_loss: 3.4147\n",
            "Epoch 20/100\n",
            "7/7 [==============================] - 0s 7ms/step - loss: 1.2429 - val_loss: 2.7313\n",
            "Epoch 21/100\n",
            "7/7 [==============================] - 0s 8ms/step - loss: 1.2269 - val_loss: 2.5335\n",
            "Epoch 22/100\n",
            "7/7 [==============================] - 0s 10ms/step - loss: 1.1493 - val_loss: 2.5535\n",
            "Epoch 23/100\n",
            "7/7 [==============================] - 0s 10ms/step - loss: 1.1375 - val_loss: 2.3261\n",
            "Epoch 24/100\n",
            "7/7 [==============================] - 0s 7ms/step - loss: 1.0661 - val_loss: 2.3165\n",
            "Epoch 25/100\n",
            "7/7 [==============================] - 0s 8ms/step - loss: 1.0873 - val_loss: 2.3081\n",
            "Epoch 26/100\n",
            "7/7 [==============================] - 0s 7ms/step - loss: 1.1223 - val_loss: 2.3681\n",
            "Epoch 27/100\n",
            "7/7 [==============================] - 0s 8ms/step - loss: 1.0614 - val_loss: 2.4534\n",
            "Epoch 28/100\n",
            "7/7 [==============================] - 0s 8ms/step - loss: 1.0821 - val_loss: 2.2906\n",
            "Epoch 29/100\n",
            "7/7 [==============================] - 0s 10ms/step - loss: 1.0530 - val_loss: 2.4410\n",
            "Epoch 30/100\n",
            "7/7 [==============================] - 0s 10ms/step - loss: 1.0588 - val_loss: 2.3166\n",
            "Epoch 31/100\n",
            "7/7 [==============================] - 0s 10ms/step - loss: 1.0667 - val_loss: 2.3571\n",
            "Epoch 32/100\n",
            "7/7 [==============================] - 0s 11ms/step - loss: 1.0487 - val_loss: 2.2927\n",
            "Epoch 33/100\n",
            "7/7 [==============================] - 0s 7ms/step - loss: 1.1295 - val_loss: 2.4454\n",
            "Epoch 34/100\n",
            "7/7 [==============================] - 0s 10ms/step - loss: 1.4914 - val_loss: 2.3576\n",
            "Epoch 35/100\n",
            "7/7 [==============================] - 0s 10ms/step - loss: 1.2995 - val_loss: 2.1221\n",
            "Epoch 36/100\n",
            "7/7 [==============================] - 0s 10ms/step - loss: 1.1793 - val_loss: 2.5580\n",
            "Epoch 37/100\n",
            "7/7 [==============================] - 0s 7ms/step - loss: 1.9024 - val_loss: 3.5779\n",
            "Epoch 38/100\n",
            "7/7 [==============================] - 0s 7ms/step - loss: 1.5020 - val_loss: 2.7488\n",
            "Epoch 39/100\n",
            "7/7 [==============================] - 0s 7ms/step - loss: 1.1637 - val_loss: 2.6117\n",
            "Epoch 40/100\n",
            "7/7 [==============================] - 0s 7ms/step - loss: 1.1142 - val_loss: 2.3903\n",
            "Epoch 41/100\n",
            "7/7 [==============================] - 0s 10ms/step - loss: 1.0685 - val_loss: 2.3589\n",
            "Epoch 42/100\n",
            "7/7 [==============================] - 0s 10ms/step - loss: 1.0680 - val_loss: 2.4044\n",
            "Epoch 43/100\n",
            "7/7 [==============================] - 0s 7ms/step - loss: 1.0651 - val_loss: 2.3900\n",
            "Epoch 44/100\n",
            "7/7 [==============================] - 0s 10ms/step - loss: 1.2521 - val_loss: 2.4166\n",
            "Epoch 45/100\n",
            "7/7 [==============================] - 0s 9ms/step - loss: 1.1324 - val_loss: 2.3941\n",
            "Epoch 46/100\n",
            "7/7 [==============================] - 0s 12ms/step - loss: 1.0891 - val_loss: 2.3228\n",
            "Epoch 47/100\n",
            "7/7 [==============================] - 0s 7ms/step - loss: 1.1171 - val_loss: 2.3055\n",
            "Epoch 48/100\n",
            "7/7 [==============================] - 0s 9ms/step - loss: 1.3291 - val_loss: 2.0353\n",
            "Epoch 49/100\n",
            "7/7 [==============================] - 0s 10ms/step - loss: 1.2943 - val_loss: 2.5153\n",
            "Epoch 50/100\n",
            "7/7 [==============================] - 0s 7ms/step - loss: 1.4276 - val_loss: 2.5234\n",
            "Epoch 51/100\n",
            "7/7 [==============================] - 0s 8ms/step - loss: 1.9060 - val_loss: 2.1211\n",
            "Epoch 52/100\n",
            "7/7 [==============================] - 0s 8ms/step - loss: 1.9232 - val_loss: 2.7522\n",
            "Epoch 53/100\n",
            "7/7 [==============================] - 0s 7ms/step - loss: 1.6887 - val_loss: 2.5211\n",
            "Epoch 54/100\n",
            "7/7 [==============================] - 0s 7ms/step - loss: 1.5438 - val_loss: 2.4814\n",
            "Epoch 55/100\n",
            "7/7 [==============================] - 0s 7ms/step - loss: 1.3304 - val_loss: 2.6043\n",
            "Epoch 56/100\n",
            "7/7 [==============================] - 0s 10ms/step - loss: 2.0117 - val_loss: 3.6557\n",
            "Epoch 57/100\n",
            "7/7 [==============================] - 0s 10ms/step - loss: 2.2518 - val_loss: 3.1966\n",
            "Epoch 58/100\n",
            "7/7 [==============================] - 0s 10ms/step - loss: 2.1002 - val_loss: 2.8792\n",
            "Epoch 59/100\n",
            "7/7 [==============================] - 0s 10ms/step - loss: 1.9016 - val_loss: 4.4149\n",
            "Epoch 60/100\n",
            "7/7 [==============================] - 0s 10ms/step - loss: 2.0429 - val_loss: 3.4124\n",
            "Epoch 61/100\n",
            "7/7 [==============================] - 0s 11ms/step - loss: 1.5202 - val_loss: 2.6598\n",
            "Epoch 62/100\n",
            "7/7 [==============================] - 0s 7ms/step - loss: 1.2179 - val_loss: 2.3013\n",
            "Epoch 63/100\n",
            "7/7 [==============================] - 0s 10ms/step - loss: 1.1163 - val_loss: 2.2780\n",
            "Epoch 64/100\n",
            "7/7 [==============================] - 0s 13ms/step - loss: 1.1096 - val_loss: 2.2528\n",
            "Epoch 65/100\n",
            "7/7 [==============================] - 0s 10ms/step - loss: 1.0976 - val_loss: 2.2468\n",
            "Epoch 66/100\n",
            "7/7 [==============================] - 0s 8ms/step - loss: 1.0792 - val_loss: 2.3233\n",
            "Epoch 67/100\n",
            "7/7 [==============================] - 0s 7ms/step - loss: 1.1167 - val_loss: 2.4069\n",
            "Epoch 68/100\n",
            "7/7 [==============================] - 0s 8ms/step - loss: 1.3473 - val_loss: 2.3382\n",
            "Epoch 69/100\n",
            "7/7 [==============================] - 0s 8ms/step - loss: 1.1961 - val_loss: 2.4256\n",
            "Epoch 70/100\n",
            "7/7 [==============================] - 0s 10ms/step - loss: 1.1229 - val_loss: 2.6388\n",
            "Epoch 71/100\n",
            "7/7 [==============================] - 0s 9ms/step - loss: 1.1903 - val_loss: 2.1604\n",
            "Epoch 72/100\n",
            "7/7 [==============================] - 0s 7ms/step - loss: 1.0572 - val_loss: 2.1047\n",
            "Epoch 73/100\n",
            "7/7 [==============================] - 0s 10ms/step - loss: 1.0477 - val_loss: 2.2399\n",
            "Epoch 74/100\n",
            "7/7 [==============================] - 0s 10ms/step - loss: 1.0835 - val_loss: 2.4851\n",
            "Epoch 75/100\n",
            "7/7 [==============================] - 0s 7ms/step - loss: 1.3101 - val_loss: 2.7600\n",
            "Epoch 76/100\n",
            "7/7 [==============================] - 0s 8ms/step - loss: 1.8029 - val_loss: 3.1196\n",
            "Epoch 77/100\n",
            "7/7 [==============================] - 0s 8ms/step - loss: 1.4083 - val_loss: 3.0779\n",
            "Epoch 78/100\n",
            "7/7 [==============================] - 0s 7ms/step - loss: 1.6920 - val_loss: 2.6824\n",
            "Epoch 79/100\n",
            "7/7 [==============================] - 0s 8ms/step - loss: 1.3994 - val_loss: 2.7964\n",
            "Epoch 80/100\n",
            "7/7 [==============================] - 0s 10ms/step - loss: 1.2267 - val_loss: 2.8588\n",
            "Epoch 81/100\n",
            "7/7 [==============================] - 0s 8ms/step - loss: 1.1699 - val_loss: 2.2520\n",
            "Epoch 82/100\n",
            "7/7 [==============================] - 0s 7ms/step - loss: 1.2321 - val_loss: 2.1564\n",
            "Epoch 83/100\n",
            "7/7 [==============================] - 0s 10ms/step - loss: 1.0704 - val_loss: 2.3899\n",
            "Epoch 84/100\n",
            "7/7 [==============================] - 0s 10ms/step - loss: 1.1024 - val_loss: 2.2369\n",
            "Epoch 85/100\n",
            "7/7 [==============================] - 0s 10ms/step - loss: 1.0372 - val_loss: 2.2166\n",
            "Epoch 86/100\n",
            "7/7 [==============================] - 0s 10ms/step - loss: 1.2155 - val_loss: 2.7315\n",
            "Epoch 87/100\n",
            "7/7 [==============================] - 0s 10ms/step - loss: 1.1459 - val_loss: 2.6569\n",
            "Epoch 88/100\n",
            "7/7 [==============================] - 0s 7ms/step - loss: 1.2561 - val_loss: 2.8926\n",
            "Epoch 89/100\n",
            "7/7 [==============================] - 0s 10ms/step - loss: 1.4013 - val_loss: 2.3946\n",
            "Epoch 90/100\n",
            "7/7 [==============================] - 0s 11ms/step - loss: 1.3796 - val_loss: 2.1908\n",
            "Epoch 91/100\n",
            "7/7 [==============================] - 0s 9ms/step - loss: 1.1639 - val_loss: 2.1986\n",
            "Epoch 92/100\n",
            "7/7 [==============================] - 0s 12ms/step - loss: 1.2090 - val_loss: 2.2432\n",
            "Epoch 93/100\n",
            "7/7 [==============================] - 0s 7ms/step - loss: 1.2131 - val_loss: 2.2352\n",
            "Epoch 94/100\n",
            "7/7 [==============================] - 0s 10ms/step - loss: 1.2567 - val_loss: 2.1121\n",
            "Epoch 95/100\n",
            "7/7 [==============================] - 0s 7ms/step - loss: 1.1569 - val_loss: 2.2344\n",
            "Epoch 96/100\n",
            "7/7 [==============================] - 0s 12ms/step - loss: 1.1603 - val_loss: 2.9854\n",
            "Epoch 97/100\n",
            "7/7 [==============================] - 0s 10ms/step - loss: 1.1831 - val_loss: 2.7729\n",
            "Epoch 98/100\n",
            "7/7 [==============================] - 0s 8ms/step - loss: 1.2030 - val_loss: 2.5115\n",
            "Epoch 99/100\n",
            "7/7 [==============================] - 0s 7ms/step - loss: 1.1557 - val_loss: 2.8649\n",
            "Epoch 100/100\n",
            "7/7 [==============================] - 0s 7ms/step - loss: 1.2396 - val_loss: 2.2809\n"
          ]
        },
        {
          "output_type": "execute_result",
          "data": {
            "text/plain": [
              "<keras.src.callbacks.History at 0x7c81a3941660>"
            ]
          },
          "metadata": {},
          "execution_count": 56
        }
      ]
    },
    {
      "cell_type": "code",
      "source": [
        "loss = model.evaluate(X_test, y_test, verbose=0)\n",
        "print('Test loss:', loss)"
      ],
      "metadata": {
        "colab": {
          "base_uri": "https://localhost:8080/"
        },
        "id": "ZITr4PNXocTL",
        "outputId": "ee35af27-defa-4c16-e2af-e15584270527"
      },
      "execution_count": 57,
      "outputs": [
        {
          "output_type": "stream",
          "name": "stdout",
          "text": [
            "Test loss: 2.280930757522583\n"
          ]
        }
      ]
    },
    {
      "cell_type": "code",
      "source": [
        "y_pred = model.predict(X_test)"
      ],
      "metadata": {
        "colab": {
          "base_uri": "https://localhost:8080/"
        },
        "id": "z6lajjbIoeZL",
        "outputId": "8186e470-9477-4887-cd46-ad2767561212"
      },
      "execution_count": 58,
      "outputs": [
        {
          "output_type": "stream",
          "name": "stdout",
          "text": [
            "2/2 [==============================] - 0s 6ms/step\n"
          ]
        }
      ]
    },
    {
      "cell_type": "code",
      "source": [
        "r2 = r2_score(y_test, y_pred)\n",
        "print('R-squared:', r2)"
      ],
      "metadata": {
        "colab": {
          "base_uri": "https://localhost:8080/"
        },
        "id": "eUkuPyfhogbI",
        "outputId": "92325c97-391c-4cad-c7e2-0c9d4857cd4a"
      },
      "execution_count": 59,
      "outputs": [
        {
          "output_type": "stream",
          "name": "stdout",
          "text": [
            "R-squared: 0.7330979609340401\n"
          ]
        }
      ]
    }
  ]
}