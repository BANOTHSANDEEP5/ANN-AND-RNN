{
  "nbformat": 4,
  "nbformat_minor": 0,
  "metadata": {
    "colab": {
      "provenance": [],
      "authorship_tag": "ABX9TyPrb7ITZcLofUc/bysCcwgI",
      "include_colab_link": true
    },
    "kernelspec": {
      "name": "python3",
      "display_name": "Python 3"
    },
    "language_info": {
      "name": "python"
    }
  },
  "cells": [
    {
      "cell_type": "markdown",
      "metadata": {
        "id": "view-in-github",
        "colab_type": "text"
      },
      "source": [
        "<a href=\"https://colab.research.google.com/github/BANOTHSANDEEP5/ANN-AND-RNN/blob/main/ANN_AND_RNN.ipynb\" target=\"_parent\"><img src=\"https://colab.research.google.com/assets/colab-badge.svg\" alt=\"Open In Colab\"/></a>"
      ]
    },
    {
      "cell_type": "code",
      "execution_count": 27,
      "metadata": {
        "id": "IE--cegRnz17"
      },
      "outputs": [],
      "source": [
        "import pandas as pd\n",
        "import numpy as np\n",
        "from sklearn.model_selection import train_test_split\n",
        "from sklearn.preprocessing import MinMaxScaler\n",
        "from tensorflow.keras.models import Sequential\n",
        "from tensorflow.keras.layers import Dense, SimpleRNN\n",
        "from sklearn.metrics import r2_score\n"
      ]
    },
    {
      "cell_type": "code",
      "source": [
        "data = pd.read_csv('data_csv.csv')"
      ],
      "metadata": {
        "id": "tHcpKtN2n6ao"
      },
      "execution_count": 28,
      "outputs": []
    },
    {
      "cell_type": "code",
      "source": [
        "X = data[['water/binder ', 'Binder (kg/m^3)', 'Fly ash (%)', 'GGBS (%)', 'SP (%)', 'Aggregate (CA/ FA)', 'Curing Days', 'Curing condition']]\n",
        "y = data['Porosity (%)']"
      ],
      "metadata": {
        "id": "CCyBKeyMoAlS"
      },
      "execution_count": 29,
      "outputs": []
    },
    {
      "cell_type": "code",
      "source": [
        "X = pd.get_dummies(X, columns=['Curing condition'])"
      ],
      "metadata": {
        "id": "WIqLvgW4oDO5"
      },
      "execution_count": 30,
      "outputs": []
    },
    {
      "cell_type": "code",
      "source": [
        "X_train, X_test, y_train, y_test = train_test_split(X, y, test_size=0.2, random_state=42)"
      ],
      "metadata": {
        "id": "-vGWw5u7oFWf"
      },
      "execution_count": 31,
      "outputs": []
    },
    {
      "cell_type": "code",
      "source": [
        "scaler = MinMaxScaler()\n",
        "X_train = scaler.fit_transform(X_train)\n",
        "X_test = scaler.transform(X_test)"
      ],
      "metadata": {
        "id": "NdBfeDWYoHSv"
      },
      "execution_count": 32,
      "outputs": []
    },
    {
      "cell_type": "code",
      "source": [
        "X_train = X_train.reshape((X_train.shape[0], 1, X_train.shape[1]))\n",
        "X_test = X_test.reshape((X_test.shape[0], 1, X_test.shape[1]))"
      ],
      "metadata": {
        "id": "4GuENn3soUH3"
      },
      "execution_count": 33,
      "outputs": []
    },
    {
      "cell_type": "code",
      "source": [
        "model = Sequential()\n",
        "model.add(SimpleRNN(units=64, input_shape=(1, X_train.shape[2])))\n",
        "model.add(Dense(units=128, activation='relu'))\n",
        "model.add(Dense(units=64, activation='relu'))\n",
        "model.add(Dense(units=1))"
      ],
      "metadata": {
        "id": "fcdovjt6oUpn"
      },
      "execution_count": 34,
      "outputs": []
    },
    {
      "cell_type": "code",
      "source": [
        "model.compile(optimizer='adam', loss='mean_squared_error')"
      ],
      "metadata": {
        "id": "Dst42U1moW7H"
      },
      "execution_count": 35,
      "outputs": []
    },
    {
      "cell_type": "code",
      "source": [
        "model.fit(X_train, y_train, epochs=100, batch_size=32, validation_data=(X_test, y_test), verbose=1)"
      ],
      "metadata": {
        "colab": {
          "base_uri": "https://localhost:8080/"
        },
        "id": "2YR7a_3foZSZ",
        "outputId": "e613ec6c-d626-4f4b-e3f7-027ea982caf3"
      },
      "execution_count": 76,
      "outputs": [
        {
          "output_type": "stream",
          "name": "stdout",
          "text": [
            "Epoch 1/100\n",
            "7/7 [==============================] - 0s 18ms/step - loss: 1.4031 - val_loss: 2.6165\n",
            "Epoch 2/100\n",
            "7/7 [==============================] - 0s 10ms/step - loss: 1.2408 - val_loss: 4.6638\n",
            "Epoch 3/100\n",
            "7/7 [==============================] - 0s 7ms/step - loss: 2.0855 - val_loss: 3.3497\n",
            "Epoch 4/100\n",
            "7/7 [==============================] - 0s 7ms/step - loss: 1.8462 - val_loss: 2.4594\n",
            "Epoch 5/100\n",
            "7/7 [==============================] - 0s 8ms/step - loss: 1.1972 - val_loss: 2.6822\n",
            "Epoch 6/100\n",
            "7/7 [==============================] - 0s 7ms/step - loss: 1.1426 - val_loss: 2.3743\n",
            "Epoch 7/100\n",
            "7/7 [==============================] - 0s 7ms/step - loss: 1.2363 - val_loss: 2.3176\n",
            "Epoch 8/100\n",
            "7/7 [==============================] - 0s 8ms/step - loss: 1.3620 - val_loss: 2.1036\n",
            "Epoch 9/100\n",
            "7/7 [==============================] - 0s 11ms/step - loss: 1.0201 - val_loss: 1.9875\n",
            "Epoch 10/100\n",
            "7/7 [==============================] - 0s 11ms/step - loss: 0.9808 - val_loss: 2.1529\n",
            "Epoch 11/100\n",
            "7/7 [==============================] - 0s 12ms/step - loss: 1.1688 - val_loss: 1.7734\n",
            "Epoch 12/100\n",
            "7/7 [==============================] - 0s 7ms/step - loss: 0.9379 - val_loss: 2.0613\n",
            "Epoch 13/100\n",
            "7/7 [==============================] - 0s 10ms/step - loss: 0.8090 - val_loss: 1.9881\n",
            "Epoch 14/100\n",
            "7/7 [==============================] - 0s 10ms/step - loss: 0.7221 - val_loss: 1.7688\n",
            "Epoch 15/100\n",
            "7/7 [==============================] - 0s 10ms/step - loss: 0.7312 - val_loss: 1.8486\n",
            "Epoch 16/100\n",
            "7/7 [==============================] - 0s 7ms/step - loss: 0.8817 - val_loss: 1.8392\n",
            "Epoch 17/100\n",
            "7/7 [==============================] - 0s 10ms/step - loss: 1.1837 - val_loss: 3.3530\n",
            "Epoch 18/100\n",
            "7/7 [==============================] - 0s 7ms/step - loss: 1.0008 - val_loss: 2.3748\n",
            "Epoch 19/100\n",
            "7/7 [==============================] - 0s 7ms/step - loss: 0.8565 - val_loss: 2.2943\n",
            "Epoch 20/100\n",
            "7/7 [==============================] - 0s 7ms/step - loss: 0.9030 - val_loss: 2.1787\n",
            "Epoch 21/100\n",
            "7/7 [==============================] - 0s 10ms/step - loss: 0.9269 - val_loss: 2.1018\n",
            "Epoch 22/100\n",
            "7/7 [==============================] - 0s 10ms/step - loss: 0.7545 - val_loss: 2.0369\n",
            "Epoch 23/100\n",
            "7/7 [==============================] - 0s 11ms/step - loss: 0.8072 - val_loss: 1.9604\n",
            "Epoch 24/100\n",
            "7/7 [==============================] - 0s 10ms/step - loss: 0.6840 - val_loss: 1.8420\n",
            "Epoch 25/100\n",
            "7/7 [==============================] - 0s 10ms/step - loss: 0.6762 - val_loss: 1.8101\n",
            "Epoch 26/100\n",
            "7/7 [==============================] - 0s 12ms/step - loss: 0.7375 - val_loss: 1.7329\n",
            "Epoch 27/100\n",
            "7/7 [==============================] - 0s 7ms/step - loss: 0.8536 - val_loss: 1.8771\n",
            "Epoch 28/100\n",
            "7/7 [==============================] - 0s 7ms/step - loss: 0.8498 - val_loss: 1.7918\n",
            "Epoch 29/100\n",
            "7/7 [==============================] - 0s 10ms/step - loss: 0.7033 - val_loss: 1.9295\n",
            "Epoch 30/100\n",
            "7/7 [==============================] - 0s 7ms/step - loss: 0.6808 - val_loss: 1.7803\n",
            "Epoch 31/100\n",
            "7/7 [==============================] - 0s 7ms/step - loss: 0.7055 - val_loss: 1.7833\n",
            "Epoch 32/100\n",
            "7/7 [==============================] - 0s 10ms/step - loss: 0.7358 - val_loss: 1.6889\n",
            "Epoch 33/100\n",
            "7/7 [==============================] - 0s 10ms/step - loss: 0.6807 - val_loss: 1.9266\n",
            "Epoch 34/100\n",
            "7/7 [==============================] - 0s 10ms/step - loss: 0.6563 - val_loss: 1.8935\n",
            "Epoch 35/100\n",
            "7/7 [==============================] - 0s 7ms/step - loss: 0.6451 - val_loss: 1.7866\n",
            "Epoch 36/100\n",
            "7/7 [==============================] - 0s 7ms/step - loss: 0.6366 - val_loss: 1.7950\n",
            "Epoch 37/100\n",
            "7/7 [==============================] - 0s 7ms/step - loss: 0.6725 - val_loss: 1.8739\n",
            "Epoch 38/100\n",
            "7/7 [==============================] - 0s 11ms/step - loss: 0.8927 - val_loss: 1.9171\n",
            "Epoch 39/100\n",
            "7/7 [==============================] - 0s 7ms/step - loss: 0.9872 - val_loss: 1.6338\n",
            "Epoch 40/100\n",
            "7/7 [==============================] - 0s 11ms/step - loss: 0.8197 - val_loss: 1.7920\n",
            "Epoch 41/100\n",
            "7/7 [==============================] - 0s 11ms/step - loss: 0.7766 - val_loss: 1.7557\n",
            "Epoch 42/100\n",
            "7/7 [==============================] - 0s 10ms/step - loss: 0.7044 - val_loss: 1.7623\n",
            "Epoch 43/100\n",
            "7/7 [==============================] - 0s 10ms/step - loss: 0.8697 - val_loss: 2.4625\n",
            "Epoch 44/100\n",
            "7/7 [==============================] - 0s 8ms/step - loss: 0.9610 - val_loss: 2.1768\n",
            "Epoch 45/100\n",
            "7/7 [==============================] - 0s 10ms/step - loss: 0.8001 - val_loss: 1.8476\n",
            "Epoch 46/100\n",
            "7/7 [==============================] - 0s 7ms/step - loss: 0.7581 - val_loss: 1.8637\n",
            "Epoch 47/100\n",
            "7/7 [==============================] - 0s 10ms/step - loss: 0.8566 - val_loss: 2.6598\n",
            "Epoch 48/100\n",
            "7/7 [==============================] - 0s 7ms/step - loss: 0.7957 - val_loss: 2.2758\n",
            "Epoch 49/100\n",
            "7/7 [==============================] - 0s 7ms/step - loss: 0.7140 - val_loss: 2.0025\n",
            "Epoch 50/100\n",
            "7/7 [==============================] - 0s 7ms/step - loss: 0.7229 - val_loss: 1.9613\n",
            "Epoch 51/100\n",
            "7/7 [==============================] - 0s 8ms/step - loss: 0.6704 - val_loss: 2.0260\n",
            "Epoch 52/100\n",
            "7/7 [==============================] - 0s 8ms/step - loss: 0.6491 - val_loss: 1.8198\n",
            "Epoch 53/100\n",
            "7/7 [==============================] - 0s 7ms/step - loss: 0.6770 - val_loss: 1.7643\n",
            "Epoch 54/100\n",
            "7/7 [==============================] - 0s 10ms/step - loss: 0.6578 - val_loss: 1.9615\n",
            "Epoch 55/100\n",
            "7/7 [==============================] - 0s 10ms/step - loss: 0.6312 - val_loss: 1.9973\n",
            "Epoch 56/100\n",
            "7/7 [==============================] - 0s 10ms/step - loss: 0.6228 - val_loss: 1.8457\n",
            "Epoch 57/100\n",
            "7/7 [==============================] - 0s 9ms/step - loss: 0.6219 - val_loss: 1.7865\n",
            "Epoch 58/100\n",
            "7/7 [==============================] - 0s 7ms/step - loss: 0.6580 - val_loss: 1.8000\n",
            "Epoch 59/100\n",
            "7/7 [==============================] - 0s 10ms/step - loss: 0.6154 - val_loss: 2.0084\n",
            "Epoch 60/100\n",
            "7/7 [==============================] - 0s 8ms/step - loss: 0.9614 - val_loss: 2.4266\n",
            "Epoch 61/100\n",
            "7/7 [==============================] - 0s 8ms/step - loss: 0.7220 - val_loss: 2.3870\n",
            "Epoch 62/100\n",
            "7/7 [==============================] - 0s 10ms/step - loss: 0.7558 - val_loss: 2.3219\n",
            "Epoch 63/100\n",
            "7/7 [==============================] - 0s 10ms/step - loss: 0.6799 - val_loss: 2.0597\n",
            "Epoch 64/100\n",
            "7/7 [==============================] - 0s 7ms/step - loss: 0.6706 - val_loss: 1.9872\n",
            "Epoch 65/100\n",
            "7/7 [==============================] - 0s 13ms/step - loss: 0.5821 - val_loss: 2.1485\n",
            "Epoch 66/100\n",
            "7/7 [==============================] - 0s 13ms/step - loss: 0.9598 - val_loss: 2.6432\n",
            "Epoch 67/100\n",
            "7/7 [==============================] - 0s 13ms/step - loss: 0.8751 - val_loss: 2.1372\n",
            "Epoch 68/100\n",
            "7/7 [==============================] - 0s 15ms/step - loss: 0.7689 - val_loss: 1.8805\n",
            "Epoch 69/100\n",
            "7/7 [==============================] - 0s 14ms/step - loss: 0.6570 - val_loss: 1.8902\n",
            "Epoch 70/100\n",
            "7/7 [==============================] - 0s 10ms/step - loss: 0.6893 - val_loss: 2.0284\n",
            "Epoch 71/100\n",
            "7/7 [==============================] - 0s 11ms/step - loss: 0.6543 - val_loss: 1.9671\n",
            "Epoch 72/100\n",
            "7/7 [==============================] - 0s 15ms/step - loss: 0.6829 - val_loss: 2.1216\n",
            "Epoch 73/100\n",
            "7/7 [==============================] - 0s 11ms/step - loss: 0.7332 - val_loss: 2.4530\n",
            "Epoch 74/100\n",
            "7/7 [==============================] - 0s 10ms/step - loss: 0.7354 - val_loss: 2.2442\n",
            "Epoch 75/100\n",
            "7/7 [==============================] - 0s 13ms/step - loss: 0.7167 - val_loss: 2.0668\n",
            "Epoch 76/100\n",
            "7/7 [==============================] - 0s 11ms/step - loss: 0.6908 - val_loss: 2.0495\n",
            "Epoch 77/100\n",
            "7/7 [==============================] - 0s 10ms/step - loss: 0.7426 - val_loss: 2.3048\n",
            "Epoch 78/100\n",
            "7/7 [==============================] - 0s 13ms/step - loss: 0.6649 - val_loss: 1.8818\n",
            "Epoch 79/100\n",
            "7/7 [==============================] - 0s 13ms/step - loss: 0.6106 - val_loss: 1.9645\n",
            "Epoch 80/100\n",
            "7/7 [==============================] - 0s 14ms/step - loss: 0.9722 - val_loss: 2.0636\n",
            "Epoch 81/100\n",
            "7/7 [==============================] - 0s 14ms/step - loss: 0.9176 - val_loss: 1.8426\n",
            "Epoch 82/100\n",
            "7/7 [==============================] - 0s 13ms/step - loss: 0.6898 - val_loss: 1.8533\n",
            "Epoch 83/100\n",
            "7/7 [==============================] - 0s 13ms/step - loss: 0.7066 - val_loss: 1.8736\n",
            "Epoch 84/100\n",
            "7/7 [==============================] - 0s 14ms/step - loss: 0.6892 - val_loss: 1.7882\n",
            "Epoch 85/100\n",
            "7/7 [==============================] - 0s 14ms/step - loss: 0.6801 - val_loss: 1.6491\n",
            "Epoch 86/100\n",
            "7/7 [==============================] - 0s 15ms/step - loss: 0.6097 - val_loss: 1.8079\n",
            "Epoch 87/100\n",
            "7/7 [==============================] - 0s 13ms/step - loss: 0.6496 - val_loss: 1.8245\n",
            "Epoch 88/100\n",
            "7/7 [==============================] - 0s 13ms/step - loss: 0.5912 - val_loss: 1.7826\n",
            "Epoch 89/100\n",
            "7/7 [==============================] - 0s 13ms/step - loss: 0.6091 - val_loss: 1.7524\n",
            "Epoch 90/100\n",
            "7/7 [==============================] - 0s 14ms/step - loss: 0.5880 - val_loss: 1.7266\n",
            "Epoch 91/100\n",
            "7/7 [==============================] - 0s 15ms/step - loss: 0.5908 - val_loss: 1.7064\n",
            "Epoch 92/100\n",
            "7/7 [==============================] - 0s 10ms/step - loss: 0.5873 - val_loss: 1.6856\n",
            "Epoch 93/100\n",
            "7/7 [==============================] - 0s 7ms/step - loss: 0.5778 - val_loss: 1.7556\n",
            "Epoch 94/100\n",
            "7/7 [==============================] - 0s 10ms/step - loss: 0.5838 - val_loss: 1.7541\n",
            "Epoch 95/100\n",
            "7/7 [==============================] - 0s 7ms/step - loss: 0.6073 - val_loss: 1.7907\n",
            "Epoch 96/100\n",
            "7/7 [==============================] - 0s 7ms/step - loss: 1.1458 - val_loss: 1.8870\n",
            "Epoch 97/100\n",
            "7/7 [==============================] - 0s 10ms/step - loss: 0.8956 - val_loss: 1.6550\n",
            "Epoch 98/100\n",
            "7/7 [==============================] - 0s 10ms/step - loss: 0.8146 - val_loss: 1.7362\n",
            "Epoch 99/100\n",
            "7/7 [==============================] - 0s 7ms/step - loss: 0.7364 - val_loss: 1.5929\n",
            "Epoch 100/100\n",
            "7/7 [==============================] - 0s 7ms/step - loss: 0.7050 - val_loss: 1.6964\n"
          ]
        },
        {
          "output_type": "execute_result",
          "data": {
            "text/plain": [
              "<keras.src.callbacks.History at 0x7c81a3943040>"
            ]
          },
          "metadata": {},
          "execution_count": 76
        }
      ]
    },
    {
      "cell_type": "code",
      "source": [
        "loss = model.evaluate(X_test, y_test, verbose=0)\n",
        "print('Test loss:', loss)"
      ],
      "metadata": {
        "colab": {
          "base_uri": "https://localhost:8080/"
        },
        "id": "ZITr4PNXocTL",
        "outputId": "7be22ad9-987e-4feb-ff7e-6121083aaf37"
      },
      "execution_count": 77,
      "outputs": [
        {
          "output_type": "stream",
          "name": "stdout",
          "text": [
            "Test loss: 1.696392297744751\n"
          ]
        }
      ]
    },
    {
      "cell_type": "code",
      "source": [
        "y_pred = model.predict(X_test)"
      ],
      "metadata": {
        "colab": {
          "base_uri": "https://localhost:8080/"
        },
        "id": "z6lajjbIoeZL",
        "outputId": "84db66fa-8cfb-495e-fb4e-0e8be2d95c72"
      },
      "execution_count": 78,
      "outputs": [
        {
          "output_type": "stream",
          "name": "stdout",
          "text": [
            "2/2 [==============================] - 0s 6ms/step\n"
          ]
        }
      ]
    },
    {
      "cell_type": "code",
      "source": [
        "r2 = r2_score(y_test, y_pred)\n",
        "print('R-squared:', r2)"
      ],
      "metadata": {
        "colab": {
          "base_uri": "https://localhost:8080/"
        },
        "id": "eUkuPyfhogbI",
        "outputId": "01197f9f-b751-4942-ea65-0ccf7b871aee"
      },
      "execution_count": 79,
      "outputs": [
        {
          "output_type": "stream",
          "name": "stdout",
          "text": [
            "R-squared: 0.801497521308155\n"
          ]
        }
      ]
    }
  ]
}