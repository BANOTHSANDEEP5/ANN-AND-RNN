{
  "nbformat": 4,
  "nbformat_minor": 0,
  "metadata": {
    "colab": {
      "provenance": [],
      "authorship_tag": "ABX9TyPrb7ITZcLofUc/bysCcwgI",
      "include_colab_link": true
    },
    "kernelspec": {
      "name": "python3",
      "display_name": "Python 3"
    },
    "language_info": {
      "name": "python"
    }
  },
  "cells": [
    {
      "cell_type": "markdown",
      "metadata": {
        "id": "view-in-github",
        "colab_type": "text"
      },
      "source": [
        "<a href=\"https://colab.research.google.com/github/BANOTHSANDEEP5/ANN-AND-RNN/blob/main/ANN_AND_RNN.ipynb\" target=\"_parent\"><img src=\"https://colab.research.google.com/assets/colab-badge.svg\" alt=\"Open In Colab\"/></a>"
      ]
    },
    {
      "cell_type": "code",
      "execution_count": 27,
      "metadata": {
        "id": "IE--cegRnz17"
      },
      "outputs": [],
      "source": [
        "import pandas as pd\n",
        "import numpy as np\n",
        "from sklearn.model_selection import train_test_split\n",
        "from sklearn.preprocessing import MinMaxScaler\n",
        "from tensorflow.keras.models import Sequential\n",
        "from tensorflow.keras.layers import Dense, SimpleRNN\n",
        "from sklearn.metrics import r2_score\n"
      ]
    },
    {
      "cell_type": "code",
      "source": [
        "data = pd.read_csv('data_csv.csv')"
      ],
      "metadata": {
        "id": "tHcpKtN2n6ao"
      },
      "execution_count": 28,
      "outputs": []
    },
    {
      "cell_type": "code",
      "source": [
        "X = data[['water/binder ', 'Binder (kg/m^3)', 'Fly ash (%)', 'GGBS (%)', 'SP (%)', 'Aggregate (CA/ FA)', 'Curing Days', 'Curing condition']]\n",
        "y = data['Porosity (%)']"
      ],
      "metadata": {
        "id": "CCyBKeyMoAlS"
      },
      "execution_count": 29,
      "outputs": []
    },
    {
      "cell_type": "code",
      "source": [
        "X = pd.get_dummies(X, columns=['Curing condition'])"
      ],
      "metadata": {
        "id": "WIqLvgW4oDO5"
      },
      "execution_count": 30,
      "outputs": []
    },
    {
      "cell_type": "code",
      "source": [
        "X_train, X_test, y_train, y_test = train_test_split(X, y, test_size=0.2, random_state=42)"
      ],
      "metadata": {
        "id": "-vGWw5u7oFWf"
      },
      "execution_count": 31,
      "outputs": []
    },
    {
      "cell_type": "code",
      "source": [
        "scaler = MinMaxScaler()\n",
        "X_train = scaler.fit_transform(X_train)\n",
        "X_test = scaler.transform(X_test)"
      ],
      "metadata": {
        "id": "NdBfeDWYoHSv"
      },
      "execution_count": 32,
      "outputs": []
    },
    {
      "cell_type": "code",
      "source": [
        "X_train = X_train.reshape((X_train.shape[0], 1, X_train.shape[1]))\n",
        "X_test = X_test.reshape((X_test.shape[0], 1, X_test.shape[1]))"
      ],
      "metadata": {
        "id": "4GuENn3soUH3"
      },
      "execution_count": 33,
      "outputs": []
    },
    {
      "cell_type": "code",
      "source": [
        "model = Sequential()\n",
        "model.add(SimpleRNN(units=64, input_shape=(1, X_train.shape[2])))\n",
        "model.add(Dense(units=128, activation='relu'))\n",
        "model.add(Dense(units=64, activation='relu'))\n",
        "model.add(Dense(units=1))"
      ],
      "metadata": {
        "id": "fcdovjt6oUpn"
      },
      "execution_count": 34,
      "outputs": []
    },
    {
      "cell_type": "code",
      "source": [
        "model.compile(optimizer='adam', loss='mean_squared_error')"
      ],
      "metadata": {
        "id": "Dst42U1moW7H"
      },
      "execution_count": 35,
      "outputs": []
    },
    {
      "cell_type": "code",
      "source": [
        "model.fit(X_train, y_train, epochs=100, batch_size=32, validation_data=(X_test, y_test), verbose=1)"
      ],
      "metadata": {
        "colab": {
          "base_uri": "https://localhost:8080/"
        },
        "id": "2YR7a_3foZSZ",
        "outputId": "f8a987c1-cf6a-452b-cbc6-248802684073"
      },
      "execution_count": 84,
      "outputs": [
        {
          "output_type": "stream",
          "name": "stdout",
          "text": [
            "Epoch 1/100\n",
            "7/7 [==============================] - 0s 18ms/step - loss: 0.6090 - val_loss: 1.8578\n",
            "Epoch 2/100\n",
            "7/7 [==============================] - 0s 9ms/step - loss: 0.6278 - val_loss: 1.9107\n",
            "Epoch 3/100\n",
            "7/7 [==============================] - 0s 8ms/step - loss: 0.5946 - val_loss: 1.8495\n",
            "Epoch 4/100\n",
            "7/7 [==============================] - 0s 10ms/step - loss: 0.5622 - val_loss: 1.7371\n",
            "Epoch 5/100\n",
            "7/7 [==============================] - 0s 7ms/step - loss: 0.5350 - val_loss: 1.7174\n",
            "Epoch 6/100\n",
            "7/7 [==============================] - 0s 8ms/step - loss: 0.5316 - val_loss: 1.7452\n",
            "Epoch 7/100\n",
            "7/7 [==============================] - 0s 10ms/step - loss: 0.5142 - val_loss: 1.7369\n",
            "Epoch 8/100\n",
            "7/7 [==============================] - 0s 7ms/step - loss: 0.5132 - val_loss: 1.7277\n",
            "Epoch 9/100\n",
            "7/7 [==============================] - 0s 7ms/step - loss: 0.5201 - val_loss: 1.7043\n",
            "Epoch 10/100\n",
            "7/7 [==============================] - 0s 7ms/step - loss: 0.5456 - val_loss: 1.6542\n",
            "Epoch 11/100\n",
            "7/7 [==============================] - 0s 10ms/step - loss: 0.5424 - val_loss: 1.7693\n",
            "Epoch 12/100\n",
            "7/7 [==============================] - 0s 7ms/step - loss: 0.5250 - val_loss: 1.7960\n",
            "Epoch 13/100\n",
            "7/7 [==============================] - 0s 8ms/step - loss: 0.6099 - val_loss: 1.5739\n",
            "Epoch 14/100\n",
            "7/7 [==============================] - 0s 8ms/step - loss: 0.5710 - val_loss: 1.5792\n",
            "Epoch 15/100\n",
            "7/7 [==============================] - 0s 8ms/step - loss: 0.5271 - val_loss: 1.6697\n",
            "Epoch 16/100\n",
            "7/7 [==============================] - 0s 10ms/step - loss: 0.5333 - val_loss: 1.7188\n",
            "Epoch 17/100\n",
            "7/7 [==============================] - 0s 7ms/step - loss: 0.5116 - val_loss: 1.7650\n",
            "Epoch 18/100\n",
            "7/7 [==============================] - 0s 8ms/step - loss: 0.5170 - val_loss: 1.7220\n",
            "Epoch 19/100\n",
            "7/7 [==============================] - 0s 8ms/step - loss: 0.5122 - val_loss: 1.7381\n",
            "Epoch 20/100\n",
            "7/7 [==============================] - 0s 8ms/step - loss: 0.5200 - val_loss: 1.7571\n",
            "Epoch 21/100\n",
            "7/7 [==============================] - 0s 10ms/step - loss: 0.5091 - val_loss: 1.7510\n",
            "Epoch 22/100\n",
            "7/7 [==============================] - 0s 7ms/step - loss: 0.5053 - val_loss: 1.7031\n",
            "Epoch 23/100\n",
            "7/7 [==============================] - 0s 10ms/step - loss: 0.5153 - val_loss: 1.7488\n",
            "Epoch 24/100\n",
            "7/7 [==============================] - 0s 7ms/step - loss: 0.7838 - val_loss: 1.7860\n",
            "Epoch 25/100\n",
            "7/7 [==============================] - 0s 10ms/step - loss: 0.7221 - val_loss: 1.5146\n",
            "Epoch 26/100\n",
            "7/7 [==============================] - 0s 8ms/step - loss: 0.6205 - val_loss: 1.6040\n",
            "Epoch 27/100\n",
            "7/7 [==============================] - 0s 10ms/step - loss: 0.6000 - val_loss: 1.5180\n",
            "Epoch 28/100\n",
            "7/7 [==============================] - 0s 9ms/step - loss: 0.5717 - val_loss: 1.6739\n",
            "Epoch 29/100\n",
            "7/7 [==============================] - 0s 13ms/step - loss: 0.5522 - val_loss: 1.7010\n",
            "Epoch 30/100\n",
            "7/7 [==============================] - 0s 12ms/step - loss: 0.5446 - val_loss: 1.8853\n",
            "Epoch 31/100\n",
            "7/7 [==============================] - 0s 12ms/step - loss: 0.6572 - val_loss: 1.8371\n",
            "Epoch 32/100\n",
            "7/7 [==============================] - 0s 13ms/step - loss: 1.2136 - val_loss: 4.2076\n",
            "Epoch 33/100\n",
            "7/7 [==============================] - 0s 10ms/step - loss: 1.8673 - val_loss: 3.2515\n",
            "Epoch 34/100\n",
            "7/7 [==============================] - 0s 11ms/step - loss: 1.8200 - val_loss: 8.4333\n",
            "Epoch 35/100\n",
            "7/7 [==============================] - 0s 13ms/step - loss: 2.7454 - val_loss: 7.2172\n",
            "Epoch 36/100\n",
            "7/7 [==============================] - 0s 13ms/step - loss: 1.8297 - val_loss: 4.3553\n",
            "Epoch 37/100\n",
            "7/7 [==============================] - 0s 10ms/step - loss: 1.0791 - val_loss: 2.9600\n",
            "Epoch 38/100\n",
            "7/7 [==============================] - 0s 11ms/step - loss: 0.7924 - val_loss: 2.3964\n",
            "Epoch 39/100\n",
            "7/7 [==============================] - 0s 10ms/step - loss: 1.2672 - val_loss: 2.8281\n",
            "Epoch 40/100\n",
            "7/7 [==============================] - 0s 10ms/step - loss: 1.3512 - val_loss: 2.7543\n",
            "Epoch 41/100\n",
            "7/7 [==============================] - 0s 12ms/step - loss: 1.2244 - val_loss: 3.1025\n",
            "Epoch 42/100\n",
            "7/7 [==============================] - 0s 9ms/step - loss: 0.9871 - val_loss: 2.3450\n",
            "Epoch 43/100\n",
            "7/7 [==============================] - 0s 9ms/step - loss: 0.6592 - val_loss: 2.0708\n",
            "Epoch 44/100\n",
            "7/7 [==============================] - 0s 9ms/step - loss: 0.6420 - val_loss: 1.9444\n",
            "Epoch 45/100\n",
            "7/7 [==============================] - 0s 12ms/step - loss: 0.6777 - val_loss: 1.8423\n",
            "Epoch 46/100\n",
            "7/7 [==============================] - 0s 13ms/step - loss: 0.6072 - val_loss: 1.8501\n",
            "Epoch 47/100\n",
            "7/7 [==============================] - 0s 10ms/step - loss: 0.6246 - val_loss: 1.9184\n",
            "Epoch 48/100\n",
            "7/7 [==============================] - 0s 12ms/step - loss: 0.5662 - val_loss: 1.9237\n",
            "Epoch 49/100\n",
            "7/7 [==============================] - 0s 13ms/step - loss: 0.5554 - val_loss: 1.9002\n",
            "Epoch 50/100\n",
            "7/7 [==============================] - 0s 14ms/step - loss: 0.6168 - val_loss: 1.8231\n",
            "Epoch 51/100\n",
            "7/7 [==============================] - 0s 13ms/step - loss: 0.6312 - val_loss: 1.9001\n",
            "Epoch 52/100\n",
            "7/7 [==============================] - 0s 10ms/step - loss: 0.6666 - val_loss: 1.8621\n",
            "Epoch 53/100\n",
            "7/7 [==============================] - 0s 16ms/step - loss: 0.6382 - val_loss: 1.8804\n",
            "Epoch 54/100\n",
            "7/7 [==============================] - 0s 12ms/step - loss: 0.5765 - val_loss: 1.8231\n",
            "Epoch 55/100\n",
            "7/7 [==============================] - 0s 11ms/step - loss: 0.5754 - val_loss: 1.9801\n",
            "Epoch 56/100\n",
            "7/7 [==============================] - 0s 13ms/step - loss: 0.9727 - val_loss: 2.3801\n",
            "Epoch 57/100\n",
            "7/7 [==============================] - 0s 14ms/step - loss: 0.8342 - val_loss: 2.0330\n",
            "Epoch 58/100\n",
            "7/7 [==============================] - 0s 14ms/step - loss: 0.6923 - val_loss: 2.0591\n",
            "Epoch 59/100\n",
            "7/7 [==============================] - 0s 14ms/step - loss: 0.6389 - val_loss: 2.1040\n",
            "Epoch 60/100\n",
            "7/7 [==============================] - 0s 10ms/step - loss: 0.6041 - val_loss: 2.0685\n",
            "Epoch 61/100\n",
            "7/7 [==============================] - 0s 10ms/step - loss: 0.6079 - val_loss: 1.9649\n",
            "Epoch 62/100\n",
            "7/7 [==============================] - 0s 10ms/step - loss: 0.5609 - val_loss: 1.8665\n",
            "Epoch 63/100\n",
            "7/7 [==============================] - 0s 10ms/step - loss: 0.5213 - val_loss: 1.8338\n",
            "Epoch 64/100\n",
            "7/7 [==============================] - 0s 10ms/step - loss: 0.5329 - val_loss: 1.7801\n",
            "Epoch 65/100\n",
            "7/7 [==============================] - 0s 10ms/step - loss: 0.5455 - val_loss: 1.8300\n",
            "Epoch 66/100\n",
            "7/7 [==============================] - 0s 7ms/step - loss: 0.5277 - val_loss: 1.7873\n",
            "Epoch 67/100\n",
            "7/7 [==============================] - 0s 10ms/step - loss: 0.5065 - val_loss: 1.7833\n",
            "Epoch 68/100\n",
            "7/7 [==============================] - 0s 7ms/step - loss: 0.7812 - val_loss: 3.2285\n",
            "Epoch 69/100\n",
            "7/7 [==============================] - 0s 10ms/step - loss: 0.9908 - val_loss: 2.9639\n",
            "Epoch 70/100\n",
            "7/7 [==============================] - 0s 7ms/step - loss: 0.7647 - val_loss: 1.6600\n",
            "Epoch 71/100\n",
            "7/7 [==============================] - 0s 8ms/step - loss: 1.1072 - val_loss: 4.3617\n",
            "Epoch 72/100\n",
            "7/7 [==============================] - 0s 11ms/step - loss: 1.7593 - val_loss: 4.1744\n",
            "Epoch 73/100\n",
            "7/7 [==============================] - 0s 10ms/step - loss: 1.2822 - val_loss: 2.5866\n",
            "Epoch 74/100\n",
            "7/7 [==============================] - 0s 10ms/step - loss: 0.7160 - val_loss: 1.9480\n",
            "Epoch 75/100\n",
            "7/7 [==============================] - 0s 7ms/step - loss: 0.7278 - val_loss: 1.6549\n",
            "Epoch 76/100\n",
            "7/7 [==============================] - 0s 10ms/step - loss: 0.6225 - val_loss: 1.6714\n",
            "Epoch 77/100\n",
            "7/7 [==============================] - 0s 7ms/step - loss: 0.5559 - val_loss: 1.6161\n",
            "Epoch 78/100\n",
            "7/7 [==============================] - 0s 7ms/step - loss: 0.5349 - val_loss: 1.5442\n",
            "Epoch 79/100\n",
            "7/7 [==============================] - 0s 8ms/step - loss: 0.5976 - val_loss: 1.3903\n",
            "Epoch 80/100\n",
            "7/7 [==============================] - 0s 7ms/step - loss: 0.5392 - val_loss: 1.5346\n",
            "Epoch 81/100\n",
            "7/7 [==============================] - 0s 7ms/step - loss: 0.5529 - val_loss: 1.8583\n",
            "Epoch 82/100\n",
            "7/7 [==============================] - 0s 10ms/step - loss: 0.5642 - val_loss: 1.6075\n",
            "Epoch 83/100\n",
            "7/7 [==============================] - 0s 7ms/step - loss: 0.5428 - val_loss: 1.4974\n",
            "Epoch 84/100\n",
            "7/7 [==============================] - 0s 7ms/step - loss: 0.6459 - val_loss: 1.4351\n",
            "Epoch 85/100\n",
            "7/7 [==============================] - 0s 7ms/step - loss: 0.5835 - val_loss: 1.4952\n",
            "Epoch 86/100\n",
            "7/7 [==============================] - 0s 8ms/step - loss: 0.5599 - val_loss: 1.7674\n",
            "Epoch 87/100\n",
            "7/7 [==============================] - 0s 7ms/step - loss: 0.5237 - val_loss: 1.8484\n",
            "Epoch 88/100\n",
            "7/7 [==============================] - 0s 7ms/step - loss: 0.5263 - val_loss: 1.6626\n",
            "Epoch 89/100\n",
            "7/7 [==============================] - 0s 10ms/step - loss: 0.5070 - val_loss: 1.5990\n",
            "Epoch 90/100\n",
            "7/7 [==============================] - 0s 7ms/step - loss: 0.5237 - val_loss: 1.5869\n",
            "Epoch 91/100\n",
            "7/7 [==============================] - 0s 10ms/step - loss: 0.5184 - val_loss: 1.6766\n",
            "Epoch 92/100\n",
            "7/7 [==============================] - 0s 7ms/step - loss: 0.6727 - val_loss: 1.6237\n",
            "Epoch 93/100\n",
            "7/7 [==============================] - 0s 10ms/step - loss: 0.5763 - val_loss: 1.7086\n",
            "Epoch 94/100\n",
            "7/7 [==============================] - 0s 10ms/step - loss: 0.6371 - val_loss: 1.6933\n",
            "Epoch 95/100\n",
            "7/7 [==============================] - 0s 7ms/step - loss: 0.6124 - val_loss: 1.5798\n",
            "Epoch 96/100\n",
            "7/7 [==============================] - 0s 7ms/step - loss: 0.5567 - val_loss: 1.6243\n",
            "Epoch 97/100\n",
            "7/7 [==============================] - 0s 7ms/step - loss: 0.5276 - val_loss: 1.6488\n",
            "Epoch 98/100\n",
            "7/7 [==============================] - 0s 10ms/step - loss: 0.5630 - val_loss: 1.5359\n",
            "Epoch 99/100\n",
            "7/7 [==============================] - 0s 10ms/step - loss: 0.5403 - val_loss: 1.4975\n",
            "Epoch 100/100\n",
            "7/7 [==============================] - 0s 7ms/step - loss: 0.5263 - val_loss: 1.4633\n"
          ]
        },
        {
          "output_type": "execute_result",
          "data": {
            "text/plain": [
              "<keras.src.callbacks.History at 0x7c81a3943430>"
            ]
          },
          "metadata": {},
          "execution_count": 84
        }
      ]
    },
    {
      "cell_type": "code",
      "source": [
        "loss = model.evaluate(X_test, y_test, verbose=0)\n",
        "print('Test loss:', loss)"
      ],
      "metadata": {
        "colab": {
          "base_uri": "https://localhost:8080/"
        },
        "id": "ZITr4PNXocTL",
        "outputId": "9ce1aee6-a7b9-45fe-f4a9-e1c1a9a269cd"
      },
      "execution_count": 85,
      "outputs": [
        {
          "output_type": "stream",
          "name": "stdout",
          "text": [
            "Test loss: 1.4632583856582642\n"
          ]
        }
      ]
    },
    {
      "cell_type": "code",
      "source": [
        "y_pred = model.predict(X_test)"
      ],
      "metadata": {
        "colab": {
          "base_uri": "https://localhost:8080/"
        },
        "id": "z6lajjbIoeZL",
        "outputId": "e992b31b-c972-4c79-8ea4-7d2efa5dabcb"
      },
      "execution_count": 86,
      "outputs": [
        {
          "output_type": "stream",
          "name": "stdout",
          "text": [
            "2/2 [==============================] - 0s 5ms/step\n"
          ]
        }
      ]
    },
    {
      "cell_type": "code",
      "source": [
        "r2 = r2_score(y_test, y_pred)\n",
        "print('R-squared:', r2)"
      ],
      "metadata": {
        "colab": {
          "base_uri": "https://localhost:8080/"
        },
        "id": "eUkuPyfhogbI",
        "outputId": "07726953-081a-4e21-8092-46ee09a94c73"
      },
      "execution_count": 87,
      "outputs": [
        {
          "output_type": "stream",
          "name": "stdout",
          "text": [
            "R-squared: 0.8287775323423131\n"
          ]
        }
      ]
    }
  ]
}